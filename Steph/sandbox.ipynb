{
 "cells": [
  {
   "cell_type": "code",
   "execution_count": 1,
   "metadata": {},
   "outputs": [],
   "source": [
    "import sys\n",
    "path1 = '/Users/steph/berkelab/DA_maze/DA/Modules/'\n",
    "path2 = '/Users/steph/berkelab/DA_maze/Behavior/Modules/'\n",
    "sys.path += [path1,path2]"
   ]
  },
  {
   "cell_type": "code",
   "execution_count": 2,
   "metadata": {},
   "outputs": [],
   "source": [
    "import numpy as np\n",
    "from matplotlib import pyplot as plt\n",
    "import pandas as pd\n",
    "import seaborn as sns\n",
    "sns.set()\n",
    "plt.style.use('default')\n",
    "from multi_rat_da import *\n",
    "from tmat_ops import *\n",
    "from hexLevelAnalyses import get_sigRats_fromMeanList\n",
    "from photometryQuantifications import *\n",
    "from scipy.stats import wilcoxon\n",
    "from celluloid import Camera\n",
    "from pdf2image import convert_from_path\n",
    "%matplotlib qt"
   ]
  },
  {
   "cell_type": "code",
   "execution_count": 3,
   "metadata": {},
   "outputs": [],
   "source": [
    "loadpath = \"/Users/steph/berkelab/Data/\" #location of dataset\n",
    "#df = pd.read_csv(loadpath+\"phot_decode_df_withHexStates.csv\")\n",
    "#df = pd.read_csv(\"/Volumes/Tim/Photometry/IM-1478/07162022/IM-1478_07162022_h_sampleframe.csv\")\n",
    "\n",
    "def reduce_mem_usage(df):\n",
    "    start_mem = df.memory_usage().sum() / 1024**2\n",
    "    print('Memory usage of dataframe is {:.2f} MB'.format(start_mem))\n",
    "    for col in df.columns:\n",
    "        col_type = df[col].dtype\n",
    "        if col_type != object:\n",
    "            c_min = df[col].min()\n",
    "            c_max = df[col].max()\n",
    "            if str(col_type)[:3] == 'int':\n",
    "                if c_min > np.iinfo(np.int8).min and c_max < np.iinfo(np.int8).max:\n",
    "                    df[col] = df[col].astype(np.int8)\n",
    "                elif c_min > np.iinfo(np.int16).min and c_max < np.iinfo(np.int16).max:\n",
    "                    df[col] = df[col].astype(np.int16)\n",
    "                elif c_min > np.iinfo(np.int32).min and c_max < np.iinfo(np.int32).max:\n",
    "                    df[col] = df[col].astype(np.int32)\n",
    "                elif c_min > np.iinfo(np.int64).min and c_max < np.iinfo(np.int64).max:\n",
    "                    df[col] = df[col].astype(np.int64)\n",
    "            else:\n",
    "                if c_min > np.finfo(np.float16).min and c_max < np.finfo(np.float16).max:\n",
    "                    df[col] = df[col].astype(np.float16)\n",
    "                elif c_min > np.finfo(np.float32).min and c_max < np.finfo(np.float32).max:\n",
    "                    df[col] = df[col].astype(np.float32)\n",
    "                else:\n",
    "                    df[col] = df[col].astype(np.float64)\n",
    "        else:\n",
    "            df[col] = df[col].astype('category')\n",
    "    end_mem = df.memory_usage().sum() / 1024**2\n",
    "    print('Memory usage after optimization is: {:.2f} MB'.format(end_mem))\n",
    "    print('Decreased by {:.1f}%'.format(100 * (start_mem - end_mem) / start_mem))\n",
    "    return df\n",
    "\n",
    "#df = reduce_mem_usage(df)"
   ]
  },
  {
   "cell_type": "code",
   "execution_count": 61,
   "metadata": {},
   "outputs": [
    {
     "data": {
      "text/plain": [
       "Index(['Unnamed: 0', 'x', 'y', 'green', 'port', 'rwd', 'block', 'pA', 'pB',\n",
       "       'pC', 'frame', 'ref', 'vel', 'acc', 'tri', 'fromP', '470', 'beamA',\n",
       "       'beamB', 'beamC', 'tot_tri', 'green_z_scored', 'fiberloc',\n",
       "       'session_type', 'rat', 'date', 'nextprob', 'nextp', 'lenAC', 'lenBC',\n",
       "       'lenAB', 'simple_rr', 'pchosen', 'dtop', 'nom_rwd_a', 'nom_rwd_b',\n",
       "       'nom_rwd_c', 'hexlabels'],\n",
       "      dtype='object')"
      ]
     },
     "execution_count": 61,
     "metadata": {},
     "output_type": "execute_result"
    }
   ],
   "source": [
    "# pls show me the names of the dataframe columns bc I forget them thanks\n",
    "df.columns"
   ]
  },
  {
   "cell_type": "code",
   "execution_count": 124,
   "metadata": {},
   "outputs": [],
   "source": [
    "# plot all x,y points (in a given block) to get a picture of the maze\n",
    "bnum = 1\n",
    "pad = 20\n",
    "x = df.x[df.block==bnum]\n",
    "y = df.y[df.block==bnum]\n",
    "minx = np.nanmin(x)\n",
    "miny = np.nanmin(y)\n",
    "maxx = np.nanmax(x)\n",
    "maxy = np.nanmax(y)\n",
    "fig = plt.figure()\n",
    "plt.plot(x, y, '.')\n",
    "plt.xlim(minx-pad, maxx+pad)\n",
    "plt.ylim(miny-pad, maxy+pad)\n",
    "plt.axis('off')\n",
    "plt.savefig('maze_background.png', bbox_inches='tight', transparent=True, pad_inches=0)\n",
    "\n",
    "# same thing, but use a different color for each hex (rainbow order, yay)\n",
    "fig = plt.figure()\n",
    "hexcolor = iter(cm.rainbow(np.linspace(0, 1, 50)))    \n",
    "for hex in range (1,50):\n",
    "    c = next(hexcolor)\n",
    "    plt.plot(x[df.hexlabels==hex], y[df.hexlabels==hex], '.', c=c, alpha=0.1)\n",
    "plt.axis('off')\n",
    "plt.savefig('maze_background_colored.png', bbox_inches='tight', transparent=True, pad_inches=0)"
   ]
  },
  {
   "cell_type": "code",
   "execution_count": 6,
   "metadata": {},
   "outputs": [
    {
     "data": {
      "text/plain": [
       "<matplotlib.image.AxesImage at 0x12bf3e710>"
      ]
     },
     "execution_count": 6,
     "metadata": {},
     "output_type": "execute_result"
    }
   ],
   "source": [
    "# test load image for plot background\n",
    "img = plt.imread(\"maze_background.png\")\n",
    "fig, ax = plt.subplots()\n",
    "ax.imshow(img, extent=[minx-pad, maxx+pad, miny-pad, maxy+pad])"
   ]
  },
  {
   "cell_type": "code",
   "execution_count": 7,
   "metadata": {},
   "outputs": [],
   "source": [
    "# create plot of rat's xy (colored by hex) overlayed on the hex background\n",
    "\n",
    "# these are empirical fudge factors so the hex background and the rat's xy position (kinda sorta) line up\n",
    "# ideally we would just scale automatically but the rat's min/max xy aren't super reliable\n",
    "xshift = -7\n",
    "yshift = -35\n",
    "imscale = 0\n",
    "\n",
    "img = plt.imread(\"hex_background.png\")\n",
    "fig, ax = plt.subplots()\n",
    "ax.imshow(img, extent=[minx+xshift-imscale, maxx+xshift+imscale, maxy+yshift+imscale, miny+yshift-imscale])\n",
    "\n",
    "hexcolor = iter(cm.rainbow(np.linspace(0, 1, 50)))    \n",
    "x = df.x[df.block==1]\n",
    "y = df.y[df.block==1]\n",
    "for hex in range (1,50):\n",
    "    c = next(hexcolor)\n",
    "    plt.plot(x[df.hexlabels==hex], y[df.hexlabels==hex], '.', c=c, alpha=0.1)"
   ]
  },
  {
   "cell_type": "code",
   "execution_count": 8,
   "metadata": {},
   "outputs": [],
   "source": [
    "# Animation of rat xy and predicted xy with background generated from all rat xy\n",
    "img = plt.imread(\"maze_background_colored.png\")\n",
    "fig, ax = plt.subplots()\n",
    "\n",
    "camera = Camera(fig)\n",
    "for i in range(1000,2000):\n",
    "    ax.imshow(img, extent=[minx-pad, maxx+pad, miny-pad, maxy+pad], alpha=0.3)\n",
    "    plt.plot(df.x[i], df.y[i], color='grey', marker='o')\n",
    "    plt.plot(df.x_pred[i], df.y_pred[i], 'yo')\n",
    "    camera.snap()\n",
    "animation = camera.animate(interval=10, blit=True)"
   ]
  },
  {
   "cell_type": "code",
   "execution_count": 5,
   "metadata": {},
   "outputs": [
    {
     "ename": "NameError",
     "evalue": "name 'xshift' is not defined",
     "output_type": "error",
     "traceback": [
      "\u001b[0;31m---------------------------------------------------------------------------\u001b[0m",
      "\u001b[0;31mNameError\u001b[0m                                 Traceback (most recent call last)",
      "Cell \u001b[0;32mIn[5], line 8\u001b[0m\n\u001b[1;32m      6\u001b[0m \u001b[38;5;28;01mfor\u001b[39;00m i \u001b[38;5;129;01min\u001b[39;00m \u001b[38;5;28mrange\u001b[39m(\u001b[38;5;241m1000\u001b[39m,\u001b[38;5;241m2000\u001b[39m):\n\u001b[1;32m      7\u001b[0m     ax\u001b[38;5;241m.\u001b[39minvert_yaxis()\n\u001b[0;32m----> 8\u001b[0m     ax\u001b[38;5;241m.\u001b[39mimshow(img, extent\u001b[38;5;241m=\u001b[39m[minx\u001b[38;5;241m+\u001b[39m\u001b[43mxshift\u001b[49m\u001b[38;5;241m-\u001b[39mimscale, maxx\u001b[38;5;241m+\u001b[39mxshift\u001b[38;5;241m+\u001b[39mimscale, maxy\u001b[38;5;241m+\u001b[39myshift\u001b[38;5;241m+\u001b[39mimscale, miny\u001b[38;5;241m+\u001b[39myshift\u001b[38;5;241m-\u001b[39mimscale], alpha\u001b[38;5;241m=\u001b[39m\u001b[38;5;241m0.3\u001b[39m)\n\u001b[1;32m      9\u001b[0m     plt\u001b[38;5;241m.\u001b[39mplot(df\u001b[38;5;241m.\u001b[39mx[i], df\u001b[38;5;241m.\u001b[39my[i], color\u001b[38;5;241m=\u001b[39m\u001b[38;5;124m'\u001b[39m\u001b[38;5;124mgrey\u001b[39m\u001b[38;5;124m'\u001b[39m, marker\u001b[38;5;241m=\u001b[39m\u001b[38;5;124m'\u001b[39m\u001b[38;5;124mo\u001b[39m\u001b[38;5;124m'\u001b[39m)\n\u001b[1;32m     10\u001b[0m     plt\u001b[38;5;241m.\u001b[39mplot(df\u001b[38;5;241m.\u001b[39mx_pred[i], df\u001b[38;5;241m.\u001b[39my_pred[i], \u001b[38;5;124m'\u001b[39m\u001b[38;5;124myo\u001b[39m\u001b[38;5;124m'\u001b[39m)\n",
      "\u001b[0;31mNameError\u001b[0m: name 'xshift' is not defined"
     ]
    }
   ],
   "source": [
    "# Animation of rat xy and predicted xy with hex background\n",
    "img = plt.imread(\"hex_background.png\")\n",
    "fig, ax = plt.subplots()\n",
    "\n",
    "camera = Camera(fig)\n",
    "for i in range(1000,2000):\n",
    "    ax.invert_yaxis()\n",
    "    ax.imshow(img, extent=[minx+xshift-imscale, maxx+xshift+imscale, maxy+yshift+imscale, miny+yshift-imscale], alpha=0.3)\n",
    "    plt.plot(df.x[i], df.y[i], color='grey', marker='o')\n",
    "    plt.plot(df.x_pred[i], df.y_pred[i], 'yo')\n",
    "    ax.text(minx+xshift, miny+yshift, 'Rat in {}, pred in {}'.format(int(df.hexlabels[i]), df.pred_hexlabels[i]), verticalalignment='top', horizontalalignment='left', fontsize=15)\n",
    "    camera.snap()\n",
    "animation = camera.animate(interval=10, blit=True)"
   ]
  },
  {
   "cell_type": "code",
   "execution_count": 123,
   "metadata": {},
   "outputs": [
    {
     "ename": "NameError",
     "evalue": "name 'minx' is not defined",
     "output_type": "error",
     "traceback": [
      "\u001b[0;31m---------------------------------------------------------------------------\u001b[0m",
      "\u001b[0;31mNameError\u001b[0m                                 Traceback (most recent call last)",
      "Cell \u001b[0;32mIn[123], line 19\u001b[0m\n\u001b[1;32m     17\u001b[0m img \u001b[38;5;241m=\u001b[39m plt\u001b[38;5;241m.\u001b[39mimread(\u001b[38;5;124m\"\u001b[39m\u001b[38;5;124mhex_background.png\u001b[39m\u001b[38;5;124m\"\u001b[39m)\n\u001b[1;32m     18\u001b[0m fig, (ax1, ax2) \u001b[38;5;241m=\u001b[39m plt\u001b[38;5;241m.\u001b[39msubplots(\u001b[38;5;241m1\u001b[39m,\u001b[38;5;241m2\u001b[39m)\n\u001b[0;32m---> 19\u001b[0m ax1\u001b[38;5;241m.\u001b[39mimshow(img, extent\u001b[38;5;241m=\u001b[39m[\u001b[43mminx\u001b[49m\u001b[38;5;241m+\u001b[39mxshift\u001b[38;5;241m-\u001b[39mimscale, maxx\u001b[38;5;241m+\u001b[39mxshift\u001b[38;5;241m+\u001b[39mimscale, maxy\u001b[38;5;241m+\u001b[39myshift\u001b[38;5;241m+\u001b[39mimscale, miny\u001b[38;5;241m+\u001b[39myshift\u001b[38;5;241m-\u001b[39mimscale])\n\u001b[1;32m     20\u001b[0m ax1\u001b[38;5;241m.\u001b[39mscatter(x, y, c\u001b[38;5;241m=\u001b[39mdopamine, cmap\u001b[38;5;241m=\u001b[39m\u001b[38;5;124m'\u001b[39m\u001b[38;5;124mplasma\u001b[39m\u001b[38;5;124m'\u001b[39m, alpha\u001b[38;5;241m=\u001b[39m\u001b[38;5;241m0.3\u001b[39m)\n\u001b[1;32m     21\u001b[0m ax2\u001b[38;5;241m.\u001b[39mimshow(img, extent\u001b[38;5;241m=\u001b[39m[minx\u001b[38;5;241m+\u001b[39mxshift\u001b[38;5;241m-\u001b[39mimscale, maxx\u001b[38;5;241m+\u001b[39mxshift\u001b[38;5;241m+\u001b[39mimscale, maxy\u001b[38;5;241m+\u001b[39myshift\u001b[38;5;241m+\u001b[39mimscale, miny\u001b[38;5;241m+\u001b[39myshift\u001b[38;5;241m-\u001b[39mimscale])\n",
      "\u001b[0;31mNameError\u001b[0m: name 'minx' is not defined"
     ]
    }
   ],
   "source": [
    "# Plot of rat xy colored by dopamine\n",
    "\n",
    "# these are empirical fudge factors so the hex background and the rat's xy position (kinda sorta) line up\n",
    "# ideally we would just scale automatically but the rat's min/max xy aren't super reliable\n",
    "xshift = -7\n",
    "yshift = -35\n",
    "imscale = 0\n",
    "trialnum = 6\n",
    "blocknum = 2\n",
    "\n",
    "xpred = df.x_pred[(df.block==blocknum)&(df.tri==trialnum)]\n",
    "ypred = df.y_pred[(df.block==blocknum)&(df.tri==trialnum)]\n",
    "x = df.x[(df.block==blocknum)&(df.tri==trialnum)]\n",
    "y = df.y[(df.block==blocknum)&(df.tri==trialnum)]\n",
    "dopamine = normalize(df.green_z_scored[(df.block==blocknum)&(df.tri==trialnum)])\n",
    "\n",
    "img = plt.imread(\"hex_background.png\")\n",
    "fig, (ax1, ax2) = plt.subplots(1,2)\n",
    "ax1.imshow(img, extent=[minx+xshift-imscale, maxx+xshift+imscale, maxy+yshift+imscale, miny+yshift-imscale])\n",
    "ax1.scatter(x, y, c=dopamine, cmap='plasma', alpha=0.3)\n",
    "ax2.imshow(img, extent=[minx+xshift-imscale, maxx+xshift+imscale, maxy+yshift+imscale, miny+yshift-imscale])\n",
    "ax2.scatter(xpred, ypred, c=dopamine, cmap='plasma', alpha=0.3)\n"
   ]
  },
  {
   "cell_type": "code",
   "execution_count": 7,
   "metadata": {},
   "outputs": [],
   "source": [
    "# add animation of this ^ trial\n",
    "fig, ax = plt.subplots()\n",
    "img = plt.imread(\"hex_background.png\")\n",
    "\n",
    "camera = Camera(fig)\n",
    "for i in range(min(x.index), max(x.index)):\n",
    "    #ax.invert_yaxis()\n",
    "    ax.imshow(img, extent=[minx+xshift-imscale, maxx+xshift+imscale, maxy+yshift+imscale, miny+yshift-imscale], alpha=0.3)\n",
    "    plt.plot(x[i], y[i], color='grey', marker='o')\n",
    "    plt.plot(xpred[i],ypred[i], 'yo')\n",
    "    ax.text(minx+xshift, miny+yshift, 'Rat in {}, pred in {}'.format(int(df.hexlabels[i]), df.pred_hexlabels[i]), verticalalignment='top', horizontalalignment='left', fontsize=15)\n",
    "    camera.snap()\n",
    "animation = camera.animate(interval=10, blit=True)"
   ]
  },
  {
   "cell_type": "markdown",
   "metadata": {},
   "source": [
    "Let's mess with transition matrices!"
   ]
  },
  {
   "cell_type": "code",
   "execution_count": 11,
   "metadata": {},
   "outputs": [],
   "source": [
    "tmat = np.load('/Users/steph/berkelab/DA_maze/Data/Transition_Matrices/IM-1478/07252022/tmat_block_1.0.npy')"
   ]
  },
  {
   "cell_type": "code",
   "execution_count": 12,
   "metadata": {},
   "outputs": [
    {
     "data": {
      "text/plain": [
       "<matplotlib.image.AxesImage at 0x135abfd10>"
      ]
     },
     "execution_count": 12,
     "metadata": {},
     "output_type": "execute_result"
    }
   ],
   "source": [
    "fig, ax = plt.subplots()\n",
    "ax.imshow(tmat)\n"
   ]
  },
  {
   "cell_type": "code",
   "execution_count": 13,
   "metadata": {},
   "outputs": [
    {
     "name": "stdout",
     "output_type": "stream",
     "text": [
      "Memory usage of dataframe is 387.17 MB\n",
      "Memory usage after optimization is: 112.92 MB\n",
      "Decreased by 70.8%\n"
     ]
    }
   ],
   "source": [
    "# when using Photrat to load things, make sure Tim's directory is mounted\n",
    "remy = Photrat('IM-1478', '07252022')\n",
    "remy.load_df()\n"
   ]
  },
  {
   "cell_type": "code",
   "execution_count": 14,
   "metadata": {},
   "outputs": [
    {
     "ename": "TypeError",
     "evalue": "Photrat.__init__() missing 1 required positional argument: 'date'",
     "output_type": "error",
     "traceback": [
      "\u001b[0;31m---------------------------------------------------------------------------\u001b[0m",
      "\u001b[0;31mTypeError\u001b[0m                                 Traceback (most recent call last)",
      "Cell \u001b[0;32mIn[14], line 2\u001b[0m\n\u001b[1;32m      1\u001b[0m \u001b[38;5;66;03m#tmat = remy.load_tmat()\u001b[39;00m\n\u001b[0;32m----> 2\u001b[0m tmo \u001b[38;5;241m=\u001b[39m \u001b[43mTmatOperations\u001b[49m\u001b[43m(\u001b[49m\u001b[43mremy\u001b[49m\u001b[43m)\u001b[49m\n\u001b[1;32m      3\u001b[0m tmo\u001b[38;5;241m.\u001b[39mget_availstates()\n",
      "\u001b[0;31mTypeError\u001b[0m: Photrat.__init__() missing 1 required positional argument: 'date'"
     ]
    }
   ],
   "source": [
    "#tmat = remy.load_tmat()\n",
    "tmo = TmatOperations(remy)\n",
    "tmo.get_availstates()"
   ]
  },
  {
   "cell_type": "code",
   "execution_count": null,
   "metadata": {},
   "outputs": [],
   "source": [
    "remy.create_hexdf(98.0, 1)"
   ]
  },
  {
   "cell_type": "code",
   "execution_count": 16,
   "metadata": {},
   "outputs": [
    {
     "name": "stdout",
     "output_type": "stream",
     "text": [
      "Memory usage of dataframe is 52.45 MB\n",
      "Memory usage after optimization is: 12.54 MB\n",
      "Decreased by 76.1%\n"
     ]
    }
   ],
   "source": [
    "hexData = PhotRats(None)\n",
    "# the directory containing your dataframe\n",
    "loadpath = \"/Volumes/Tim/Photometry/10MfRatDataSet/data4sharing/\"\n",
    "datName = \"hexLevelDf\"\n",
    "hexData.df = reduce_mem_usage(pd.read_csv(loadpath+datName+\".csv\",index_col=[0]))\n",
    "hexData.directory_prefix = loadpath"
   ]
  },
  {
   "cell_type": "code",
   "execution_count": 36,
   "metadata": {},
   "outputs": [],
   "source": [
    "seshdict = \"/Volumes/Tim/Photometry/10MfRatDataSet/sessionTable.csv\"\n",
    "\n",
    "photrats = PhotRats(seshdict)\n",
    "photrats.directory_prefix = \"/Volumes/Tim/Photometry/\"\n",
    "#photrats.load_tmats()\n",
    "\n",
    "hexData = PhotRats(None)\n",
    "# the directory containing your dataframe\n",
    "loadpath = \"/Volumes/Tim/Photometry/10MfRatDataSet/data4sharing/\"\n",
    "datName = \"hexLevelDf\"\n",
    "hexData.df = reduce_mem_usage(pd.read_csv(loadpath+datName+\".csv\",index_col=[0]))\n",
    "hexData.directory_prefix = loadpath"
   ]
  },
  {
   "cell_type": "code",
   "execution_count": 46,
   "metadata": {},
   "outputs": [
    {
     "name": "stdout",
     "output_type": "stream",
     "text": [
      "could not load df for Unnamed: 0; 0\n"
     ]
    },
    {
     "ename": "TypeError",
     "evalue": "'NoneType' object does not support item assignment",
     "output_type": "error",
     "traceback": [
      "\u001b[0;31m---------------------------------------------------------------------------\u001b[0m",
      "\u001b[0;31mTypeError\u001b[0m                                 Traceback (most recent call last)",
      "Cell \u001b[0;32mIn[46], line 4\u001b[0m\n\u001b[1;32m      2\u001b[0m photrats \u001b[38;5;241m=\u001b[39m PhotRats(seshdict)\n\u001b[1;32m      3\u001b[0m photrats\u001b[38;5;241m.\u001b[39mdirectory_prefix \u001b[38;5;241m=\u001b[39m \u001b[38;5;124m\"\u001b[39m\u001b[38;5;124m/Volumes/Tim/Photometry/\u001b[39m\u001b[38;5;124m\"\u001b[39m\n\u001b[0;32m----> 4\u001b[0m \u001b[43mphotrats\u001b[49m\u001b[38;5;241;43m.\u001b[39;49m\u001b[43mload_dfs\u001b[49m\u001b[43m(\u001b[49m\u001b[43m)\u001b[49m\n",
      "File \u001b[0;32m~/berkelab/DA_maze/DA/Modules/multi_rat_da.py:46\u001b[0m, in \u001b[0;36mPhotRats.load_dfs\u001b[0;34m(self)\u001b[0m\n\u001b[1;32m     44\u001b[0m \u001b[38;5;28;01mfor\u001b[39;00m date \u001b[38;5;129;01min\u001b[39;00m \u001b[38;5;28mself\u001b[39m\u001b[38;5;241m.\u001b[39mseshdict[rat]:\n\u001b[1;32m     45\u001b[0m     newdf \u001b[38;5;241m=\u001b[39m \u001b[38;5;28mself\u001b[39m\u001b[38;5;241m.\u001b[39mattempt_load(rat,date)\n\u001b[0;32m---> 46\u001b[0m     \u001b[43mnewdf\u001b[49m\u001b[43m[\u001b[49m\u001b[38;5;124;43m'\u001b[39;49m\u001b[38;5;124;43msession\u001b[39;49m\u001b[38;5;124;43m'\u001b[39;49m\u001b[43m]\u001b[49m \u001b[38;5;241m=\u001b[39m sesh\n\u001b[1;32m     47\u001b[0m     \u001b[38;5;28mself\u001b[39m\u001b[38;5;241m.\u001b[39madd_df(newdf)\n\u001b[1;32m     48\u001b[0m     sesh \u001b[38;5;241m+\u001b[39m\u001b[38;5;241m=\u001b[39m \u001b[38;5;241m1\u001b[39m\n",
      "\u001b[0;31mTypeError\u001b[0m: 'NoneType' object does not support item assignment"
     ]
    }
   ],
   "source": [
    "seshdict = pd.read_csv(\"/Volumes/Tim/Photometry/10MfRatDataSet/sessionTable.csv\")\n",
    "photrats = PhotRats(seshdict)\n",
    "photrats.directory_prefix = \"/Volumes/Tim/Photometry/\"\n",
    "photrats.load_dfs()"
   ]
  },
  {
   "cell_type": "markdown",
   "metadata": {},
   "source": [
    "All of my functions for things! "
   ]
  },
  {
   "cell_type": "code",
   "execution_count": 6,
   "metadata": {},
   "outputs": [],
   "source": [
    "def distance_squared(x1, y1, x2, y2):\n",
    "    \"\"\" Calculates the squared Euclidean distance between two points \"\"\"\n",
    "    return (x2 - x1)**2 + (y2 - y1)**2\n",
    "\n",
    "def find_turnaround(x_coords, y_coords):\n",
    "    \"\"\" Find the index at which the rat on a dead end path turns around\n",
    "\n",
    "    Parameters: x_coords (list); y_coords (list): 2 lists of x and y coordinates representing the path\n",
    "    Returns: the index (int) at which the rat turns around, or None if no turnaround is detected\n",
    "    \"\"\"\n",
    "    \n",
    "    if len(x_coords) < 2 or len(y_coords) < 2 or len(x_coords) != len(y_coords):\n",
    "        return None  # Invalid data\n",
    "    \n",
    "    max_distance_sq = 0\n",
    "    turnaround_index = None\n",
    "    \n",
    "    for i in range(1, len(x_coords)):\n",
    "        dist_sq = distance_squared(x_coords[0], y_coords[0], x_coords[i], y_coords[i])\n",
    "        if dist_sq > max_distance_sq:\n",
    "            max_distance_sq = dist_sq\n",
    "            turnaround_index = i\n",
    "    \n",
    "    return turnaround_index\n",
    "\n",
    "def animate_rat_and_pred(df, background_img):\n",
    "    \"\"\" Animation of rat xy and predicted xy with given background image \"\"\"\n",
    "    \n",
    "    fig, ax = plt.subplots()\n",
    "    camera = Camera(fig)\n",
    "    for i in df.index:\n",
    "        #ax.invert_yaxis()\n",
    "        #ax.imshow(img, extent=[minx+xshift-imscale, maxx+xshift+imscale, maxy+yshift+imscale, miny+yshift-imscale], alpha=0.3)\n",
    "        ax.imshow(background_img, alpha=0.3)\n",
    "        plt.plot(df.x[i], df.y[i], color='grey', marker='o')\n",
    "        plt.plot(df.x_pred[i], df.y_pred[i], 'yo')\n",
    "        #ax.text(minx+xshift, miny+yshift, 'Rat in {}, pred in {}'.format(int(df.hexlabels[i]), df.pred_hexlabels[i]), verticalalignment='top', horizontalalignment='left', fontsize=15)\n",
    "        #camera.snap()\n",
    "    #animation = camera.animate(interval=10, blit=True)"
   ]
  },
  {
   "cell_type": "code",
   "execution_count": 38,
   "metadata": {},
   "outputs": [
    {
     "name": "stderr",
     "output_type": "stream",
     "text": [
      "1   HIToolbox                           0x00007ff811aef726 _ZN15MenuBarInstance22EnsureAutoShowObserverEv + 102\n",
      "2   HIToolbox                           0x00007ff811aef2b8 _ZN15MenuBarInstance14EnableAutoShowEv + 52\n",
      "3   HIToolbox                           0x00007ff811a5ecd7 _ZN15MenuBarInstance21UpdateAggregateUIModeE21MenuBarAnimationStylehhh + 1113\n",
      "4   HIToolbox                           0x00007ff811aef173 _ZN15MenuBarInstance19SetFullScreenUIModeEjj + 175\n",
      "5   AppKit                              0x00007ff80b5c04b7 -[NSApplication _setPresentationOptions:instance:flags:] + 1145\n",
      "6   AppKit                              0x00007ff80b415165 -[NSApplication _updateFullScreenPresentationOptionsForInstance:] + 582\n",
      "7   CoreFoundation                      0x00007ff80812f3f4 __CFNOTIFICATIONCENTER_IS_CALLING_OUT_TO_AN_OBSERVER__ + 137\n",
      "8   CoreFoundation                      0x00007ff8081c943a ___CFXRegistrationPost_block_invoke + 88\n",
      "9   CoreFoundation                      0x00007ff8081c9389 _CFXRegistrationPost + 536\n",
      "10  CoreFoundation                      0x00007ff808102919 _CFXNotificationPost + 735\n",
      "11  Foundation                          0x00007ff808f3cf2c -[NSNotificationCenter postNotificationName:object:userInfo:] + 82\n",
      "12  AppKit                              0x00007ff80b5c0b28 spacesNotificationHandler + 119\n",
      "13  SkyLight                            0x00007ff80cd5e74d _ZN12_GLOBAL__N_123notify_datagram_handlerEj15CGSDatagramTypePvmS1_ + 1030\n",
      "14  SkyLight                            0x00007ff80d07104a _ZN21CGSDatagramReadStream26dispatchMainQueueDatagramsEv + 202\n",
      "15  SkyLight                            0x00007ff80d070f71 ___ZN21CGSDatagramReadStream15mainQueueWakeupEv_block_invoke + 18\n",
      "16  libdispatch.dylib                   0x00007ff807edd7fb _dispatch_call_block_and_release + 12\n",
      "17  libdispatch.dylib                   0x00007ff807edea44 _dispatch_client_callout + 8\n",
      "18  libdispatch.dylib                   0x00007ff807eeb7b9 _dispatch_main_queue_drain + 952\n",
      "19  libdispatch.dylib                   0x00007ff807eeb3f3 _dispatch_main_queue_callback_4CF + 31\n",
      "20  CoreFoundation                      0x00007ff808178610 __CFRUNLOOP_IS_SERVICING_THE_MAIN_DISPATCH_QUEUE__ + 9\n",
      "21  CoreFoundation                      0x00007ff808138b90 __CFRunLoopRun + 2454\n",
      "22  CoreFoundation                      0x00007ff808137b80 CFRunLoopRunSpecific + 560\n",
      "23  HIToolbox                           0x00007ff811a7c766 RunCurrentEventLoopInMode + 292\n",
      "24  HIToolbox                           0x00007ff811a7c576 ReceiveNextEventCommon + 679\n",
      "25  HIToolbox                           0x00007ff811a7c2b3 _BlockUntilNextEventMatchingListInModeWithFilter + 70\n",
      "26  AppKit                              0x00007ff80b283f33 _DPSNextEvent + 909\n",
      "27  AppKit                              0x00007ff80b282db4 -[NSApplication(NSEvent) _nextEventMatchingEventMask:untilDate:inMode:dequeue:] + 1219\n",
      "28  AppKit                              0x00007ff80b2753f7 -[NSApplication run] + 586\n",
      "29  libqcocoa.dylib                     0x000000013e24f50a qt_plugin_instance + 148153\n"
     ]
    }
   ],
   "source": []
  },
  {
   "cell_type": "code",
   "execution_count": 43,
   "metadata": {},
   "outputs": [
    {
     "data": {
      "text/plain": [
       "[<matplotlib.lines.Line2D at 0x310da4e90>]"
      ]
     },
     "execution_count": 43,
     "metadata": {},
     "output_type": "execute_result"
    }
   ],
   "source": [
    "#plt.plot(dead_end_df.index)\n",
    "plt.plot(dead_end_df.tri)"
   ]
  },
  {
   "cell_type": "code",
   "execution_count": 189,
   "metadata": {},
   "outputs": [
    {
     "data": {
      "text/plain": [
       "369628    185.375\n",
       "369629    185.500\n",
       "369630    185.625\n",
       "369631    185.625\n",
       "369632    185.750\n",
       "           ...   \n",
       "374192    179.125\n",
       "374193    179.000\n",
       "374194    178.750\n",
       "374195    178.500\n",
       "374196    178.250\n",
       "Name: x, Length: 4569, dtype: float16"
      ]
     },
     "execution_count": 189,
     "metadata": {},
     "output_type": "execute_result"
    }
   ],
   "source": []
  },
  {
   "cell_type": "code",
   "execution_count": 46,
   "metadata": {},
   "outputs": [
    {
     "data": {
      "text/plain": [
       "<matplotlib.collections.PathCollection at 0x310e25a90>"
      ]
     },
     "execution_count": 46,
     "metadata": {},
     "output_type": "execute_result"
    }
   ],
   "source": [
    "fig, ax = plt.subplots()\n",
    "#ax.imshow(img, alpha=0.3)\n",
    "ax.invert_yaxis()\n",
    "ax.scatter(dead_end_df.x, dead_end_df.y, c='grey')\n",
    "ax.scatter(dead_end_df.x_pred, dead_end_df.y_pred, c='yellow')\n",
    "    #ax.text(minx+xshift, miny+yshift, 'Rat in {}, pred in {}'.format(int(df.hexlabels[i]), df.pred_hexlabels[i]), verticalalignment='top', horizontalalignment='left', fontsize=15)\n",
    "    #camera.snap()\n",
    "    #animation = camera.animate(interval=10, blit=True)"
   ]
  },
  {
   "cell_type": "code",
   "execution_count": null,
   "metadata": {},
   "outputs": [],
   "source": [
    "# extract the stuff we care about once so plotting is way faster\n",
    "x = df.x\n",
    "y = df.y\n",
    "minx = np.nanmin(x)\n",
    "miny = np.nanmin(y)\n",
    "maxx = np.nanmax(x)\n",
    "maxy = np.nanmax(y)\n",
    "\n",
    "xpred = df.x_pred[(df.block==blocknum)&(df.tri==trialnum)]\n",
    "ypred = df.y_pred[(df.block==blocknum)&(df.tri==trialnum)]\n",
    "x = df.x[(df.block==blocknum)&(df.tri==trialnum)]\n",
    "y = df.y[(df.block==blocknum)&(df.tri==trialnum)]\n",
    "dopamine = normalize(df.green_z_scored[(df.block==blocknum)&(df.tri==trialnum)])\n",
    "\n",
    "img = plt.imread(\"hex_background.png\")\n",
    "fig, (ax1, ax2) = plt.subplots(1,2)\n",
    "ax1.imshow(img, extent=[minx+xshift-imscale, maxx+xshift+imscale, maxy+yshift+imscale, miny+yshift-imscale])\n",
    "ax1.scatter(x, y, c=dopamine, cmap='plasma', alpha=0.3)\n",
    "ax2.imshow(img, extent=[minx+xshift-imscale, maxx+xshift+imscale, maxy+yshift+imscale, miny+yshift-imscale])\n",
    "ax2.scatter(xpred, ypred, c=dopamine, cmap='plasma', alpha=0.3)"
   ]
  }
 ],
 "metadata": {
  "kernelspec": {
   "display_name": "Python 3 (ipykernel)",
   "language": "python",
   "name": "python3"
  },
  "language_info": {
   "codemirror_mode": {
    "name": "ipython",
    "version": 3
   },
   "file_extension": ".py",
   "mimetype": "text/x-python",
   "name": "python",
   "nbconvert_exporter": "python",
   "pygments_lexer": "ipython3",
   "version": "3.11.5"
  }
 },
 "nbformat": 4,
 "nbformat_minor": 4
}
