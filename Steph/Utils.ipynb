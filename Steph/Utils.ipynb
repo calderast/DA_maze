{
 "cells": [
  {
   "cell_type": "code",
   "execution_count": null,
   "id": "491ee449-018d-4bf8-bbc4-3d09c0c47e13",
   "metadata": {},
   "outputs": [],
   "source": [
    "# Load pdf image of hexes to use as the plot background\n",
    "from pdf2image import convert_from_path\n",
    "\n",
    "image = convert_from_path(\"/Users/steph/berkelab/DA_maze/Data/Transition_Matrices/IM-1478/07252022/hex_layout_block1.0.pdf\")\n",
    "image[0].save('hex_background.png', 'png')"
   ]
  },
  {
   "cell_type": "code",
   "execution_count": null,
   "id": "41c782ef-4a85-4de4-afce-24035ecd8a05",
   "metadata": {},
   "outputs": [],
   "source": []
  }
 ],
 "metadata": {
  "kernelspec": {
   "display_name": "Python 3 (ipykernel)",
   "language": "python",
   "name": "python3"
  },
  "language_info": {
   "codemirror_mode": {
    "name": "ipython",
    "version": 3
   },
   "file_extension": ".py",
   "mimetype": "text/x-python",
   "name": "python",
   "nbconvert_exporter": "python",
   "pygments_lexer": "ipython3",
   "version": "3.11.5"
  }
 },
 "nbformat": 4,
 "nbformat_minor": 5
}
