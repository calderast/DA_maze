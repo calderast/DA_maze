{
 "cells": [
  {
   "cell_type": "code",
   "execution_count": 1,
   "metadata": {},
   "outputs": [],
   "source": [
    "import sys\n",
    "path1 = '/Users/steph/berkelab/DA_maze/DA/Modules/'\n",
    "path2 = '/Users/steph/berkelab/DA_maze/Behavior/Modules/'\n",
    "sys.path += [path1,path2]"
   ]
  },
  {
   "cell_type": "code",
   "execution_count": 2,
   "metadata": {},
   "outputs": [],
   "source": [
    "import numpy as np\n",
    "from matplotlib import pyplot as plt\n",
    "import pandas as pd\n",
    "import seaborn as sns\n",
    "sns.set()\n",
    "plt.style.use('default')\n",
    "from multi_rat_da import *\n",
    "from tmat_ops import *\n",
    "from hexLevelAnalyses import get_sigRats_fromMeanList\n",
    "from photometryQuantifications import *\n",
    "from scipy.stats import wilcoxon\n",
    "from celluloid import Camera\n",
    "from pdf2image import convert_from_path\n",
    "%matplotlib qt"
   ]
  },
  {
   "cell_type": "code",
   "execution_count": 3,
   "metadata": {},
   "outputs": [],
   "source": [
    "loadpath = \"/Users/steph/berkelab/Data/\" #location of dataset\n",
    "#df = pd.read_csv(loadpath+\"phot_decode_df_withHexStates.csv\")\n",
    "#df = pd.read_csv(\"/Volumes/Tim/Photometry/IM-1478/07162022/IM-1478_07162022_h_sampleframe.csv\")\n",
    "\n",
    "def normalize(data):\n",
    "    return (data - np.min(data)) / (np.max(data) - np.min(data))\n",
    "\n",
    "def reduce_mem_usage(df):\n",
    "    start_mem = df.memory_usage().sum() / 1024**2\n",
    "    print('Memory usage of dataframe is {:.2f} MB'.format(start_mem))\n",
    "    for col in df.columns:\n",
    "        col_type = df[col].dtype\n",
    "        if col_type != object:\n",
    "            c_min = df[col].min()\n",
    "            c_max = df[col].max()\n",
    "            if str(col_type)[:3] == 'int':\n",
    "                if c_min > np.iinfo(np.int8).min and c_max < np.iinfo(np.int8).max:\n",
    "                    df[col] = df[col].astype(np.int8)\n",
    "                elif c_min > np.iinfo(np.int16).min and c_max < np.iinfo(np.int16).max:\n",
    "                    df[col] = df[col].astype(np.int16)\n",
    "                elif c_min > np.iinfo(np.int32).min and c_max < np.iinfo(np.int32).max:\n",
    "                    df[col] = df[col].astype(np.int32)\n",
    "                elif c_min > np.iinfo(np.int64).min and c_max < np.iinfo(np.int64).max:\n",
    "                    df[col] = df[col].astype(np.int64)\n",
    "            else:\n",
    "                if c_min > np.finfo(np.float16).min and c_max < np.finfo(np.float16).max:\n",
    "                    df[col] = df[col].astype(np.float16)\n",
    "                elif c_min > np.finfo(np.float32).min and c_max < np.finfo(np.float32).max:\n",
    "                    df[col] = df[col].astype(np.float32)\n",
    "                else:\n",
    "                    df[col] = df[col].astype(np.float64)\n",
    "        else:\n",
    "            df[col] = df[col].astype('category')\n",
    "    end_mem = df.memory_usage().sum() / 1024**2\n",
    "    print('Memory usage after optimization is: {:.2f} MB'.format(end_mem))\n",
    "    print('Decreased by {:.1f}%'.format(100 * (start_mem - end_mem) / start_mem))\n",
    "    return df\n",
    "\n",
    "#df = reduce_mem_usage(df)"
   ]
  },
  {
   "cell_type": "code",
   "execution_count": 61,
   "metadata": {},
   "outputs": [
    {
     "data": {
      "text/plain": [
       "Index(['Unnamed: 0', 'x', 'y', 'green', 'port', 'rwd', 'block', 'pA', 'pB',\n",
       "       'pC', 'frame', 'ref', 'vel', 'acc', 'tri', 'fromP', '470', 'beamA',\n",
       "       'beamB', 'beamC', 'tot_tri', 'green_z_scored', 'fiberloc',\n",
       "       'session_type', 'rat', 'date', 'nextprob', 'nextp', 'lenAC', 'lenBC',\n",
       "       'lenAB', 'simple_rr', 'pchosen', 'dtop', 'nom_rwd_a', 'nom_rwd_b',\n",
       "       'nom_rwd_c', 'hexlabels'],\n",
       "      dtype='object')"
      ]
     },
     "execution_count": 61,
     "metadata": {},
     "output_type": "execute_result"
    }
   ],
   "source": [
    "# pls show me the names of the dataframe columns bc I forget them thanks\n",
    "df.columns"
   ]
  },
  {
   "cell_type": "code",
   "execution_count": 124,
   "metadata": {},
   "outputs": [],
   "source": [
    "# plot all x,y points (in a given block) to get a picture of the maze\n",
    "bnum = 1\n",
    "pad = 20\n",
    "x = df.x[df.block==bnum]\n",
    "y = df.y[df.block==bnum]\n",
    "minx = np.nanmin(x)\n",
    "miny = np.nanmin(y)\n",
    "maxx = np.nanmax(x)\n",
    "maxy = np.nanmax(y)\n",
    "fig = plt.figure()\n",
    "plt.plot(x, y, '.')\n",
    "plt.xlim(minx-pad, maxx+pad)\n",
    "plt.ylim(miny-pad, maxy+pad)\n",
    "plt.axis('off')\n",
    "plt.savefig('maze_background.png', bbox_inches='tight', transparent=True, pad_inches=0)\n",
    "\n",
    "# same thing, but use a different color for each hex (rainbow order, yay)\n",
    "fig = plt.figure()\n",
    "hexcolor = iter(cm.rainbow(np.linspace(0, 1, 50)))    \n",
    "for hex in range (1,50):\n",
    "    c = next(hexcolor)\n",
    "    plt.plot(x[df.hexlabels==hex], y[df.hexlabels==hex], '.', c=c, alpha=0.1)\n",
    "plt.axis('off')\n",
    "plt.savefig('maze_background_colored.png', bbox_inches='tight', transparent=True, pad_inches=0)"
   ]
  },
  {
   "cell_type": "code",
   "execution_count": 6,
   "metadata": {},
   "outputs": [
    {
     "data": {
      "text/plain": [
       "<matplotlib.image.AxesImage at 0x12bf3e710>"
      ]
     },
     "execution_count": 6,
     "metadata": {},
     "output_type": "execute_result"
    }
   ],
   "source": [
    "# test load image for plot background\n",
    "img = plt.imread(\"maze_background.png\")\n",
    "fig, ax = plt.subplots()\n",
    "ax.imshow(img, extent=[minx-pad, maxx+pad, miny-pad, maxy+pad])"
   ]
  },
  {
   "cell_type": "code",
   "execution_count": 7,
   "metadata": {},
   "outputs": [],
   "source": [
    "# create plot of rat's xy (colored by hex) overlayed on the hex background\n",
    "\n",
    "# these are empirical fudge factors so the hex background and the rat's xy position (kinda sorta) line up\n",
    "# ideally we would just scale automatically but the rat's min/max xy aren't super reliable\n",
    "xshift = -7\n",
    "yshift = -35\n",
    "imscale = 0\n",
    "\n",
    "img = plt.imread(\"hex_background.png\")\n",
    "fig, ax = plt.subplots()\n",
    "ax.imshow(img, extent=[minx+xshift-imscale, maxx+xshift+imscale, maxy+yshift+imscale, miny+yshift-imscale])\n",
    "\n",
    "hexcolor = iter(cm.rainbow(np.linspace(0, 1, 50)))    \n",
    "x = df.x[df.block==1]\n",
    "y = df.y[df.block==1]\n",
    "for hex in range (1,50):\n",
    "    c = next(hexcolor)\n",
    "    plt.plot(x[df.hexlabels==hex], y[df.hexlabels==hex], '.', c=c, alpha=0.1)"
   ]
  },
  {
   "cell_type": "code",
   "execution_count": 8,
   "metadata": {},
   "outputs": [],
   "source": [
    "# Animation of rat xy and predicted xy with background generated from all rat xy\n",
    "img = plt.imread(\"maze_background_colored.png\")\n",
    "fig, ax = plt.subplots()\n",
    "\n",
    "camera = Camera(fig)\n",
    "for i in range(1000,2000):\n",
    "    ax.imshow(img, extent=[minx-pad, maxx+pad, miny-pad, maxy+pad], alpha=0.3)\n",
    "    plt.plot(df.x[i], df.y[i], color='grey', marker='o')\n",
    "    plt.plot(df.x_pred[i], df.y_pred[i], 'yo')\n",
    "    camera.snap()\n",
    "animation = camera.animate(interval=10, blit=True)"
   ]
  },
  {
   "cell_type": "code",
   "execution_count": 5,
   "metadata": {},
   "outputs": [
    {
     "ename": "NameError",
     "evalue": "name 'xshift' is not defined",
     "output_type": "error",
     "traceback": [
      "\u001b[0;31m---------------------------------------------------------------------------\u001b[0m",
      "\u001b[0;31mNameError\u001b[0m                                 Traceback (most recent call last)",
      "Cell \u001b[0;32mIn[5], line 8\u001b[0m\n\u001b[1;32m      6\u001b[0m \u001b[38;5;28;01mfor\u001b[39;00m i \u001b[38;5;129;01min\u001b[39;00m \u001b[38;5;28mrange\u001b[39m(\u001b[38;5;241m1000\u001b[39m,\u001b[38;5;241m2000\u001b[39m):\n\u001b[1;32m      7\u001b[0m     ax\u001b[38;5;241m.\u001b[39minvert_yaxis()\n\u001b[0;32m----> 8\u001b[0m     ax\u001b[38;5;241m.\u001b[39mimshow(img, extent\u001b[38;5;241m=\u001b[39m[minx\u001b[38;5;241m+\u001b[39m\u001b[43mxshift\u001b[49m\u001b[38;5;241m-\u001b[39mimscale, maxx\u001b[38;5;241m+\u001b[39mxshift\u001b[38;5;241m+\u001b[39mimscale, maxy\u001b[38;5;241m+\u001b[39myshift\u001b[38;5;241m+\u001b[39mimscale, miny\u001b[38;5;241m+\u001b[39myshift\u001b[38;5;241m-\u001b[39mimscale], alpha\u001b[38;5;241m=\u001b[39m\u001b[38;5;241m0.3\u001b[39m)\n\u001b[1;32m      9\u001b[0m     plt\u001b[38;5;241m.\u001b[39mplot(df\u001b[38;5;241m.\u001b[39mx[i], df\u001b[38;5;241m.\u001b[39my[i], color\u001b[38;5;241m=\u001b[39m\u001b[38;5;124m'\u001b[39m\u001b[38;5;124mgrey\u001b[39m\u001b[38;5;124m'\u001b[39m, marker\u001b[38;5;241m=\u001b[39m\u001b[38;5;124m'\u001b[39m\u001b[38;5;124mo\u001b[39m\u001b[38;5;124m'\u001b[39m)\n\u001b[1;32m     10\u001b[0m     plt\u001b[38;5;241m.\u001b[39mplot(df\u001b[38;5;241m.\u001b[39mx_pred[i], df\u001b[38;5;241m.\u001b[39my_pred[i], \u001b[38;5;124m'\u001b[39m\u001b[38;5;124myo\u001b[39m\u001b[38;5;124m'\u001b[39m)\n",
      "\u001b[0;31mNameError\u001b[0m: name 'xshift' is not defined"
     ]
    }
   ],
   "source": [
    "# Animation of rat xy and predicted xy with hex background\n",
    "img = plt.imread(\"hex_background.png\")\n",
    "fig, ax = plt.subplots()\n",
    "\n",
    "camera = Camera(fig)\n",
    "for i in range(1000,2000):\n",
    "    ax.invert_yaxis()\n",
    "    ax.imshow(img, extent=[minx+xshift-imscale, maxx+xshift+imscale, maxy+yshift+imscale, miny+yshift-imscale], alpha=0.3)\n",
    "    plt.plot(df.x[i], df.y[i], color='grey', marker='o')\n",
    "    plt.plot(df.x_pred[i], df.y_pred[i], 'yo')\n",
    "    ax.text(minx+xshift, miny+yshift, 'Rat in {}, pred in {}'.format(int(df.hexlabels[i]), df.pred_hexlabels[i]), verticalalignment='top', horizontalalignment='left', fontsize=15)\n",
    "    camera.snap()\n",
    "animation = camera.animate(interval=10, blit=True)"
   ]
  },
  {
   "cell_type": "code",
   "execution_count": 123,
   "metadata": {},
   "outputs": [
    {
     "ename": "NameError",
     "evalue": "name 'minx' is not defined",
     "output_type": "error",
     "traceback": [
      "\u001b[0;31m---------------------------------------------------------------------------\u001b[0m",
      "\u001b[0;31mNameError\u001b[0m                                 Traceback (most recent call last)",
      "Cell \u001b[0;32mIn[123], line 19\u001b[0m\n\u001b[1;32m     17\u001b[0m img \u001b[38;5;241m=\u001b[39m plt\u001b[38;5;241m.\u001b[39mimread(\u001b[38;5;124m\"\u001b[39m\u001b[38;5;124mhex_background.png\u001b[39m\u001b[38;5;124m\"\u001b[39m)\n\u001b[1;32m     18\u001b[0m fig, (ax1, ax2) \u001b[38;5;241m=\u001b[39m plt\u001b[38;5;241m.\u001b[39msubplots(\u001b[38;5;241m1\u001b[39m,\u001b[38;5;241m2\u001b[39m)\n\u001b[0;32m---> 19\u001b[0m ax1\u001b[38;5;241m.\u001b[39mimshow(img, extent\u001b[38;5;241m=\u001b[39m[\u001b[43mminx\u001b[49m\u001b[38;5;241m+\u001b[39mxshift\u001b[38;5;241m-\u001b[39mimscale, maxx\u001b[38;5;241m+\u001b[39mxshift\u001b[38;5;241m+\u001b[39mimscale, maxy\u001b[38;5;241m+\u001b[39myshift\u001b[38;5;241m+\u001b[39mimscale, miny\u001b[38;5;241m+\u001b[39myshift\u001b[38;5;241m-\u001b[39mimscale])\n\u001b[1;32m     20\u001b[0m ax1\u001b[38;5;241m.\u001b[39mscatter(x, y, c\u001b[38;5;241m=\u001b[39mdopamine, cmap\u001b[38;5;241m=\u001b[39m\u001b[38;5;124m'\u001b[39m\u001b[38;5;124mplasma\u001b[39m\u001b[38;5;124m'\u001b[39m, alpha\u001b[38;5;241m=\u001b[39m\u001b[38;5;241m0.3\u001b[39m)\n\u001b[1;32m     21\u001b[0m ax2\u001b[38;5;241m.\u001b[39mimshow(img, extent\u001b[38;5;241m=\u001b[39m[minx\u001b[38;5;241m+\u001b[39mxshift\u001b[38;5;241m-\u001b[39mimscale, maxx\u001b[38;5;241m+\u001b[39mxshift\u001b[38;5;241m+\u001b[39mimscale, maxy\u001b[38;5;241m+\u001b[39myshift\u001b[38;5;241m+\u001b[39mimscale, miny\u001b[38;5;241m+\u001b[39myshift\u001b[38;5;241m-\u001b[39mimscale])\n",
      "\u001b[0;31mNameError\u001b[0m: name 'minx' is not defined"
     ]
    }
   ],
   "source": [
    "# Plot of rat xy colored by dopamine\n",
    "\n",
    "# these are empirical fudge factors so the hex background and the rat's xy position (kinda sorta) line up\n",
    "# ideally we would just scale automatically but the rat's min/max xy aren't super reliable\n",
    "xshift = -7\n",
    "yshift = -35\n",
    "imscale = 0\n",
    "trialnum = 6\n",
    "blocknum = 2\n",
    "\n",
    "xpred = df.x_pred[(df.block==blocknum)&(df.tri==trialnum)]\n",
    "ypred = df.y_pred[(df.block==blocknum)&(df.tri==trialnum)]\n",
    "x = df.x[(df.block==blocknum)&(df.tri==trialnum)]\n",
    "y = df.y[(df.block==blocknum)&(df.tri==trialnum)]\n",
    "dopamine = normalize(df.green_z_scored[(df.block==blocknum)&(df.tri==trialnum)])\n",
    "\n",
    "img = plt.imread(\"hex_background.png\")\n",
    "fig, (ax1, ax2) = plt.subplots(1,2)\n",
    "ax1.imshow(img, extent=[minx+xshift-imscale, maxx+xshift+imscale, maxy+yshift+imscale, miny+yshift-imscale])\n",
    "ax1.scatter(x, y, c=dopamine, cmap='plasma', alpha=0.3)\n",
    "ax2.imshow(img, extent=[minx+xshift-imscale, maxx+xshift+imscale, maxy+yshift+imscale, miny+yshift-imscale])\n",
    "ax2.scatter(xpred, ypred, c=dopamine, cmap='plasma', alpha=0.3)\n"
   ]
  },
  {
   "cell_type": "code",
   "execution_count": 7,
   "metadata": {},
   "outputs": [],
   "source": [
    "# add animation of this ^ trial\n",
    "fig, ax = plt.subplots()\n",
    "img = plt.imread(\"hex_background.png\")\n",
    "\n",
    "camera = Camera(fig)\n",
    "for i in range(min(x.index), max(x.index)):\n",
    "    #ax.invert_yaxis()\n",
    "    ax.imshow(img, extent=[minx+xshift-imscale, maxx+xshift+imscale, maxy+yshift+imscale, miny+yshift-imscale], alpha=0.3)\n",
    "    plt.plot(x[i], y[i], color='grey', marker='o')\n",
    "    plt.plot(xpred[i],ypred[i], 'yo')\n",
    "    ax.text(minx+xshift, miny+yshift, 'Rat in {}, pred in {}'.format(int(df.hexlabels[i]), df.pred_hexlabels[i]), verticalalignment='top', horizontalalignment='left', fontsize=15)\n",
    "    camera.snap()\n",
    "animation = camera.animate(interval=10, blit=True)"
   ]
  },
  {
   "cell_type": "markdown",
   "metadata": {},
   "source": [
    "Let's mess with transition matrices!"
   ]
  },
  {
   "cell_type": "code",
   "execution_count": 11,
   "metadata": {},
   "outputs": [],
   "source": [
    "tmat = np.load('/Users/steph/berkelab/DA_maze/Data/Transition_Matrices/IM-1478/07252022/tmat_block_1.0.npy')"
   ]
  },
  {
   "cell_type": "code",
   "execution_count": 12,
   "metadata": {},
   "outputs": [
    {
     "data": {
      "text/plain": [
       "<matplotlib.image.AxesImage at 0x135abfd10>"
      ]
     },
     "execution_count": 12,
     "metadata": {},
     "output_type": "execute_result"
    }
   ],
   "source": [
    "fig, ax = plt.subplots()\n",
    "ax.imshow(tmat)\n"
   ]
  },
  {
   "cell_type": "code",
   "execution_count": 13,
   "metadata": {},
   "outputs": [
    {
     "name": "stdout",
     "output_type": "stream",
     "text": [
      "Memory usage of dataframe is 387.17 MB\n",
      "Memory usage after optimization is: 112.92 MB\n",
      "Decreased by 70.8%\n"
     ]
    }
   ],
   "source": [
    "# when using Photrat to load things, make sure Tim's directory is mounted\n",
    "remy = Photrat('IM-1478', '07252022')\n",
    "remy.load_df()\n"
   ]
  },
  {
   "cell_type": "code",
   "execution_count": 14,
   "metadata": {},
   "outputs": [
    {
     "ename": "TypeError",
     "evalue": "Photrat.__init__() missing 1 required positional argument: 'date'",
     "output_type": "error",
     "traceback": [
      "\u001b[0;31m---------------------------------------------------------------------------\u001b[0m",
      "\u001b[0;31mTypeError\u001b[0m                                 Traceback (most recent call last)",
      "Cell \u001b[0;32mIn[14], line 2\u001b[0m\n\u001b[1;32m      1\u001b[0m \u001b[38;5;66;03m#tmat = remy.load_tmat()\u001b[39;00m\n\u001b[0;32m----> 2\u001b[0m tmo \u001b[38;5;241m=\u001b[39m \u001b[43mTmatOperations\u001b[49m\u001b[43m(\u001b[49m\u001b[43mremy\u001b[49m\u001b[43m)\u001b[49m\n\u001b[1;32m      3\u001b[0m tmo\u001b[38;5;241m.\u001b[39mget_availstates()\n",
      "\u001b[0;31mTypeError\u001b[0m: Photrat.__init__() missing 1 required positional argument: 'date'"
     ]
    }
   ],
   "source": [
    "#tmat = remy.load_tmat()\n",
    "tmo = TmatOperations(remy)\n",
    "tmo.get_availstates()"
   ]
  },
  {
   "cell_type": "code",
   "execution_count": null,
   "metadata": {},
   "outputs": [],
   "source": [
    "remy.create_hexdf(98.0, 1)"
   ]
  },
  {
   "cell_type": "code",
   "execution_count": 16,
   "metadata": {},
   "outputs": [
    {
     "name": "stdout",
     "output_type": "stream",
     "text": [
      "Memory usage of dataframe is 52.45 MB\n",
      "Memory usage after optimization is: 12.54 MB\n",
      "Decreased by 76.1%\n"
     ]
    }
   ],
   "source": [
    "hexData = PhotRats(None)\n",
    "# the directory containing your dataframe\n",
    "loadpath = \"/Volumes/Tim/Photometry/10MfRatDataSet/data4sharing/\"\n",
    "datName = \"hexLevelDf\"\n",
    "hexData.df = reduce_mem_usage(pd.read_csv(loadpath+datName+\".csv\",index_col=[0]))\n",
    "hexData.directory_prefix = loadpath"
   ]
  },
  {
   "cell_type": "code",
   "execution_count": 36,
   "metadata": {},
   "outputs": [],
   "source": [
    "seshdict = \"/Volumes/Tim/Photometry/10MfRatDataSet/sessionTable.csv\"\n",
    "\n",
    "photrats = PhotRats(seshdict)\n",
    "photrats.directory_prefix = \"/Volumes/Tim/Photometry/\"\n",
    "#photrats.load_tmats()\n",
    "\n",
    "hexData = PhotRats(None)\n",
    "# the directory containing your dataframe\n",
    "loadpath = \"/Volumes/Tim/Photometry/10MfRatDataSet/data4sharing/\"\n",
    "datName = \"hexLevelDf\"\n",
    "hexData.df = reduce_mem_usage(pd.read_csv(loadpath+datName+\".csv\",index_col=[0]))\n",
    "hexData.directory_prefix = loadpath"
   ]
  },
  {
   "cell_type": "code",
   "execution_count": 46,
   "metadata": {},
   "outputs": [
    {
     "name": "stdout",
     "output_type": "stream",
     "text": [
      "could not load df for Unnamed: 0; 0\n"
     ]
    },
    {
     "ename": "TypeError",
     "evalue": "'NoneType' object does not support item assignment",
     "output_type": "error",
     "traceback": [
      "\u001b[0;31m---------------------------------------------------------------------------\u001b[0m",
      "\u001b[0;31mTypeError\u001b[0m                                 Traceback (most recent call last)",
      "Cell \u001b[0;32mIn[46], line 4\u001b[0m\n\u001b[1;32m      2\u001b[0m photrats \u001b[38;5;241m=\u001b[39m PhotRats(seshdict)\n\u001b[1;32m      3\u001b[0m photrats\u001b[38;5;241m.\u001b[39mdirectory_prefix \u001b[38;5;241m=\u001b[39m \u001b[38;5;124m\"\u001b[39m\u001b[38;5;124m/Volumes/Tim/Photometry/\u001b[39m\u001b[38;5;124m\"\u001b[39m\n\u001b[0;32m----> 4\u001b[0m \u001b[43mphotrats\u001b[49m\u001b[38;5;241;43m.\u001b[39;49m\u001b[43mload_dfs\u001b[49m\u001b[43m(\u001b[49m\u001b[43m)\u001b[49m\n",
      "File \u001b[0;32m~/berkelab/DA_maze/DA/Modules/multi_rat_da.py:46\u001b[0m, in \u001b[0;36mPhotRats.load_dfs\u001b[0;34m(self)\u001b[0m\n\u001b[1;32m     44\u001b[0m \u001b[38;5;28;01mfor\u001b[39;00m date \u001b[38;5;129;01min\u001b[39;00m \u001b[38;5;28mself\u001b[39m\u001b[38;5;241m.\u001b[39mseshdict[rat]:\n\u001b[1;32m     45\u001b[0m     newdf \u001b[38;5;241m=\u001b[39m \u001b[38;5;28mself\u001b[39m\u001b[38;5;241m.\u001b[39mattempt_load(rat,date)\n\u001b[0;32m---> 46\u001b[0m     \u001b[43mnewdf\u001b[49m\u001b[43m[\u001b[49m\u001b[38;5;124;43m'\u001b[39;49m\u001b[38;5;124;43msession\u001b[39;49m\u001b[38;5;124;43m'\u001b[39;49m\u001b[43m]\u001b[49m \u001b[38;5;241m=\u001b[39m sesh\n\u001b[1;32m     47\u001b[0m     \u001b[38;5;28mself\u001b[39m\u001b[38;5;241m.\u001b[39madd_df(newdf)\n\u001b[1;32m     48\u001b[0m     sesh \u001b[38;5;241m+\u001b[39m\u001b[38;5;241m=\u001b[39m \u001b[38;5;241m1\u001b[39m\n",
      "\u001b[0;31mTypeError\u001b[0m: 'NoneType' object does not support item assignment"
     ]
    }
   ],
   "source": [
    "seshdict = pd.read_csv(\"/Volumes/Tim/Photometry/10MfRatDataSet/sessionTable.csv\")\n",
    "photrats = PhotRats(seshdict)\n",
    "photrats.directory_prefix = \"/Volumes/Tim/Photometry/\"\n",
    "photrats.load_dfs()"
   ]
  },
  {
   "cell_type": "markdown",
   "metadata": {},
   "source": [
    "All of my functions for things! "
   ]
  },
  {
   "cell_type": "code",
   "execution_count": 6,
   "metadata": {},
   "outputs": [],
   "source": [
    "def distance_squared(x1, y1, x2, y2):\n",
    "    \"\"\" Calculates the squared Euclidean distance between two points \"\"\"\n",
    "    return (x2 - x1)**2 + (y2 - y1)**2\n",
    "\n",
    "def find_turnaround(x_coords, y_coords):\n",
    "    \"\"\" Find the index at which the rat on a dead end path turns around\n",
    "\n",
    "    Parameters: x_coords (list); y_coords (list): 2 lists of x and y coordinates representing the path\n",
    "    Returns: the index (int) at which the rat turns around, or None if no turnaround is detected\n",
    "    \"\"\"\n",
    "    \n",
    "    if len(x_coords) < 2 or len(y_coords) < 2 or len(x_coords) != len(y_coords):\n",
    "        return None  # Invalid data\n",
    "    \n",
    "    max_distance_sq = 0\n",
    "    turnaround_index = None\n",
    "    \n",
    "    for i in range(1, len(x_coords)):\n",
    "        dist_sq = distance_squared(x_coords[0], y_coords[0], x_coords[i], y_coords[i])\n",
    "        if dist_sq > max_distance_sq:\n",
    "            max_distance_sq = dist_sq\n",
    "            turnaround_index = i\n",
    "    \n",
    "    return turnaround_index"
   ]
  },
  {
   "cell_type": "code",
   "execution_count": 4,
   "metadata": {},
   "outputs": [],
   "source": [
    "def find_dead_ends(tmat):\n",
    "    \"\"\" Given a transition matrix, returns an array of hexes that are dead ends \"\"\"\n",
    "    \n",
    "    dead_ends = np.unique(np.where(tmat==1)[0])\n",
    "    dead_ends = np.delete(dead_ends,np.isin(dead_ends,[1,2,3]))\n",
    "    return dead_ends\n",
    "\n",
    "def path_to_dead_end(tmat, next_hex, path=[]):\n",
    "    \"\"\" Given a transition matrix and a dead end hex, returns the path of hexes to that dead end \n",
    "    \n",
    "    Note: Third argument [] or name of empty list is required to ensure you get a new list \n",
    "    instead of modifying the same list from the last time this function was run\n",
    "    \"\"\"\n",
    "\n",
    "    path.append(next_hex)\n",
    "    next_hexes = np.where(tmat[:, next_hex]==0.5)[0]\n",
    "    for hex in next_hexes:\n",
    "        if hex not in path and hex not in [1,2,3]:\n",
    "            path_to_dead_end(tmat, hex, path)\n",
    "    return list(path)\n",
    "\n",
    "def get_all_dead_end_hexes(tmat):\n",
    "    \"\"\" Given a transition matrix, get all hexes that are part of dead end paths \"\"\"\n",
    "\n",
    "    all_dead_end_hexes = []\n",
    "    dead_ends = find_dead_ends(tmat)\n",
    "    for hex in dead_ends:\n",
    "        all_dead_end_hexes += path_to_dead_end(tmat, hex, [])[:]\n",
    "    return list(all_dead_end_hexes)\n",
    "\n",
    "def animate_rat_and_pred(df, background_img):\n",
    "    \"\"\" Animation of rat xy and predicted xy with given background image \"\"\"\n",
    "    \n",
    "    fig, ax = plt.subplots()\n",
    "    camera = Camera(fig)\n",
    "    for i in df.index:\n",
    "        #ax.invert_yaxis()\n",
    "        #ax.imshow(img, extent=[minx+xshift-imscale, maxx+xshift+imscale, maxy+yshift+imscale, miny+yshift-imscale], alpha=0.3)\n",
    "        ax.imshow(background_img, alpha=0.3)\n",
    "        plt.plot(df.x[i], df.y[i], color='grey', marker='o')\n",
    "        plt.plot(df.x_pred[i], df.y_pred[i], 'yo')\n",
    "        #ax.text(minx+xshift, miny+yshift, 'Rat in {}, pred in {}'.format(int(df.hexlabels[i]), df.pred_hexlabels[i]), verticalalignment='top', horizontalalignment='left', fontsize=15)\n",
    "        #camera.snap()\n",
    "    #animation = camera.animate(interval=10, blit=True)\n",
    "\n",
    "def get_bounds(df):\n",
    "    return np.nanmin(df.x), np.nanmin(df.y), np.nanmax(df.x), np.nanmax(df.y)\n",
    "\n",
    "def divide_into_sections(arr):\n",
    "    \"\"\" Divides a sorted list of numbers into sections of consecutive numbers increasing by 1.\n",
    "    \n",
    "    Parameters: arr (list): A sorted list of numbers with potential breaks. \n",
    "    Returns: result (list): A list where each section of increasing numbers is represented by consecutive integers.\n",
    "\n",
    "    Example:\n",
    "    >>> input_array = [7, 8, 9, 10, 11, 55, 56, 57, 58, 59, 60, 61, 990, 991, 992, 993]\n",
    "    >>> result_array = divide_into_sections(input_array)\n",
    "    >>> print(result_array)\n",
    "    [1, 1, 1, 1, 1, 2, 2, 2, 2, 2, 2, 2, 3, 3, 3, 3]\n",
    "    \"\"\"\n",
    "\n",
    "    result = [0]*len(arr) # preallocate result for speeeeed\n",
    "    current_section = 1\n",
    "\n",
    "    for i in range(1, len(arr)):\n",
    "        if arr[i] != arr[i-1] + 1:\n",
    "            current_section += 1\n",
    "        result[i] = current_section\n",
    "\n",
    "    return result"
   ]
  },
  {
   "cell_type": "code",
   "execution_count": 5,
   "metadata": {},
   "outputs": [
    {
     "name": "stdout",
     "output_type": "stream",
     "text": [
      "Memory usage of dataframe is 522.47 MB\n",
      "Memory usage after optimization is: 122.46 MB\n",
      "Decreased by 76.6%\n"
     ]
    },
    {
     "name": "stderr",
     "output_type": "stream",
     "text": [
      "/var/folders/4y/j2yklrvj7z96v7h6ww30_knc0000gp/T/ipykernel_44206/2959504539.py:26: SettingWithCopyWarning: \n",
      "A value is trying to be set on a copy of a slice from a DataFrame.\n",
      "Try using .loc[row_indexer,col_indexer] = value instead\n",
      "\n",
      "See the caveats in the documentation: https://pandas.pydata.org/pandas-docs/stable/user_guide/indexing.html#returning-a-view-versus-a-copy\n",
      "  dead_end_df['dead_end_entry'] = dead_end_entry\n"
     ]
    }
   ],
   "source": [
    "# 1. load dataframe and corresponding transition matrix\n",
    "# 2. find dead end hexes\n",
    "# 3. find paths to those dead ends\n",
    "# 4. find all times a rat is inside a dead end path\n",
    "\n",
    "specific_path = \"IM-1478/07202022\"\n",
    "phot_path_base = \"/Volumes/Tim/Photometry/\"\n",
    "ephys_path_base = \"/Volumes/Tim/Ephys/\"\n",
    "\n",
    "# Load transition matrix and dataframe for this session\n",
    "transition_mat = np.load(phot_path_base+specific_path+\"/tmat.npy\")\n",
    "df = reduce_mem_usage(pd.read_csv(ephys_path_base+specific_path+\"/phot_decode_df_withHexStates.csv\"))\n",
    "minx, miny, maxx, maxy = get_bounds(df)\n",
    "\n",
    "# Load pdf image of hexes from this session to use as the plot background\n",
    "image = convert_from_path(phot_path_base+specific_path+\"/hex_layout.pdf\")\n",
    "image[0].save('hex_background.png', 'png')\n",
    "\n",
    "# Get subset of dataframe where rat the is in dead ends\n",
    "dead_end_hexes = get_all_dead_end_hexes(transition_mat)\n",
    "indices = [i for i in df.index if df['hexlabels'][i] in dead_end_hexes]\n",
    "dead_end_df = df[df.index.isin(indices)]\n",
    "\n",
    "# Add column to the dataframe labeling each entry into a dead end path\n",
    "dead_end_entry = divide_into_sections(dead_end_df.index)\n",
    "dead_end_df['dead_end_entry'] = dead_end_entry"
   ]
  },
  {
   "cell_type": "code",
   "execution_count": 15,
   "metadata": {},
   "outputs": [
    {
     "name": "stdout",
     "output_type": "stream",
     "text": [
      "angle:  2.0344439357957027  xy-1:  291.75 , 235.0  xy:  291.75 , 235.125  xy+1:  292.0 , 235.0 prev dir (0.0, 1.0) next dir (0.8944271909999159, -0.4472135954999579)\n",
      "angle:  3.141592653589793  xy-1:  295.0 , 225.75  xy:  294.75 , 225.75  xy+1:  295.0 , 225.75 prev dir (-1.0, 0.0) next dir (1.0, 0.0)\n",
      "angle:  2.0344439357957027  xy-1:  307.5 , 209.75  xy:  307.5 , 209.625  xy+1:  307.25 , 209.75 prev dir (0.0, -1.0) next dir (-0.8944271909999159, 0.4472135954999579)\n",
      "angle:  2.677945044588987  xy-1:  305.0 , 211.25  xy:  304.75 , 211.375  xy+1:  305.0 , 211.375 prev dir (-0.8944271909999159, 0.4472135954999579) next dir (1.0, 0.0)\n"
     ]
    }
   ],
   "source": [
    "# Plot instance(s) of when a rat is in a dead end\n",
    "scale = 60\n",
    "xshift = 10\n",
    "yshift = -30\n",
    "\n",
    "entry = 6 # which entry into a dead end we care about\n",
    "plot_direction_changes = True # if we want to highlight direction changes on the plot\n",
    "\n",
    "# get subsets of data (it's faster than constantly accessing the dataframe)\n",
    "x = dead_end_df.x[dead_end_df.dead_end_entry==entry]\n",
    "y = dead_end_df.y[dead_end_df.dead_end_entry==entry]\n",
    "x_pred = dead_end_df.x_pred[dead_end_df.dead_end_entry==entry]\n",
    "y_pred = dead_end_df.y_pred[dead_end_df.dead_end_entry==entry]\n",
    "dopamine = dead_end_df.green_z_scored[dead_end_df.dead_end_entry==entry]\n",
    "idx = dead_end_df.index[dead_end_df.dead_end_entry==entry]\n",
    "vel = dead_end_df.vel[dead_end_df.dead_end_entry==entry]\n",
    "\n",
    "# plot !\n",
    "img = plt.imread(\"hex_background.png\")\n",
    "fig, ((ax1, ax2), (ax3, ax4)) = plt.subplots(2,2)\n",
    "ax1.set_title(\"Rat's actual position\")\n",
    "ax1.imshow(img, extent=[minx+xshift-scale, maxx+xshift+scale, maxy+yshift+scale, miny+yshift-scale])\n",
    "ax1.scatter(x, y, c=idx, alpha=0.1, cmap='autumn')\n",
    "ax3.set_title(\"Decoded position\")\n",
    "ax3.imshow(img, extent=[minx+xshift-scale, maxx+xshift+scale, maxy+yshift+scale, miny+yshift-scale])\n",
    "ax3.scatter(x_pred, y_pred, c=idx, alpha=0.5, cmap='autumn')\n",
    "ax2.set_title(\"Dopamine\")\n",
    "ax2.scatter(idx, dead_end_df.theta_phase[dead_end_df.dead_end_entry==entry], c='grey', alpha=0.1)\n",
    "ax2.scatter(idx, dopamine)\n",
    "ax4.set_title(\"Velocity\")\n",
    "ax4.scatter(idx, vel)\n",
    "\n",
    "if plot_direction_changes:\n",
    "    # find points where the rat's direction changes\n",
    "    direction_changes = find_direction_change_indices(list(x), list(y), 1.58)\n",
    "    direction_changes = [d + min(x.index) for d in direction_changes]\n",
    "    # highlight these points on the plot in green\n",
    "    for i in direction_changes:\n",
    "        ax1.scatter(x[i], y[i], c='lawngreen')\n",
    "        ax3.scatter(x_pred[i], y_pred[i], c='lawngreen')\n",
    "        ax2.scatter(i, dopamine[i], c='lawngreen')\n",
    "        ax4.scatter(i, vel[i], c='lawngreen')"
   ]
  },
  {
   "cell_type": "code",
   "execution_count": 14,
   "metadata": {},
   "outputs": [
    {
     "name": "stdout",
     "output_type": "stream",
     "text": [
      "angle:  1.5707963267948966  xy-1:  325.75 , 205.5  xy:  325.75 , 205.625  xy+1:  326.0 , 205.625 prev dir (0.0, 1.0) next dir (1.0, 0.0)\n",
      "angle:  1.5707963267948966  xy-1:  325.75 , 205.625  xy:  326.0 , 205.625  xy+1:  326.0 , 205.75 prev dir (1.0, 0.0) next dir (0.0, 1.0)\n",
      "angle:  1.5707963267948966  xy-1:  326.25 , 206.5  xy:  326.25 , 206.625  xy+1:  326.5 , 206.625 prev dir (0.0, 1.0) next dir (1.0, 0.0)\n",
      "angle:  1.5707963267948966  xy-1:  326.25 , 206.625  xy:  326.5 , 206.625  xy+1:  326.5 , 206.75 prev dir (1.0, 0.0) next dir (0.0, 1.0)\n",
      "angle:  1.5707963267948966  xy-1:  329.25 , 209.125  xy:  329.25 , 209.25  xy+1:  329.5 , 209.25 prev dir (0.0, 1.0) next dir (1.0, 0.0)\n",
      "angle:  1.5707963267948966  xy-1:  329.25 , 209.25  xy:  329.5 , 209.25  xy+1:  329.5 , 209.375 prev dir (1.0, 0.0) next dir (0.0, 1.0)\n",
      "angle:  1.5707963267948966  xy-1:  329.5 , 209.375  xy:  329.5 , 209.5  xy+1:  329.75 , 209.5 prev dir (0.0, 1.0) next dir (1.0, 0.0)\n",
      "angle:  1.5707963267948966  xy-1:  329.5 , 209.5  xy:  329.75 , 209.5  xy+1:  329.75 , 209.625 prev dir (1.0, 0.0) next dir (0.0, 1.0)\n",
      "angle:  1.5707963267948966  xy-1:  329.75 , 209.625  xy:  329.75 , 209.75  xy+1:  330.0 , 209.75 prev dir (0.0, 1.0) next dir (1.0, 0.0)\n",
      "angle:  1.5707963267948966  xy-1:  329.75 , 209.75  xy:  330.0 , 209.75  xy+1:  330.0 , 209.875 prev dir (1.0, 0.0) next dir (0.0, 1.0)\n",
      "angle:  1.5707963267948966  xy-1:  330.0 , 210.0  xy:  330.0 , 210.125  xy+1:  330.25 , 210.125 prev dir (0.0, 1.0) next dir (1.0, 0.0)\n",
      "angle:  1.5707963267948966  xy-1:  330.0 , 210.125  xy:  330.25 , 210.125  xy+1:  330.25 , 210.25 prev dir (1.0, 0.0) next dir (0.0, 1.0)\n",
      "angle:  1.5707963267948966  xy-1:  330.25 , 210.25  xy:  330.25 , 210.375  xy+1:  330.5 , 210.375 prev dir (0.0, 1.0) next dir (1.0, 0.0)\n",
      "angle:  1.5707963267948966  xy-1:  330.25 , 210.375  xy:  330.5 , 210.375  xy+1:  330.5 , 210.5 prev dir (1.0, 0.0) next dir (0.0, 1.0)\n",
      "angle:  1.5707963267948966  xy-1:  330.5 , 210.5  xy:  330.5 , 210.625  xy+1:  330.25 , 210.625 prev dir (0.0, 1.0) next dir (-1.0, 0.0)\n",
      "angle:  1.5707963267948966  xy-1:  330.5 , 210.625  xy:  330.25 , 210.625  xy+1:  330.25 , 210.75 prev dir (-1.0, 0.0) next dir (0.0, 1.0)\n",
      "angle:  1.5707963267948966  xy-1:  330.25 , 210.75  xy:  330.25 , 210.875  xy+1:  330.0 , 210.875 prev dir (0.0, 1.0) next dir (-1.0, 0.0)\n",
      "angle:  1.5707963267948966  xy-1:  330.25 , 210.875  xy:  330.0 , 210.875  xy+1:  330.0 , 211.0 prev dir (-1.0, 0.0) next dir (0.0, 1.0)\n",
      "angle:  1.5707963267948966  xy-1:  329.75 , 211.125  xy:  329.75 , 211.25  xy+1:  329.5 , 211.25 prev dir (0.0, 1.0) next dir (-1.0, 0.0)\n",
      "angle:  1.5707963267948966  xy-1:  329.75 , 211.25  xy:  329.5 , 211.25  xy+1:  329.5 , 211.375 prev dir (-1.0, 0.0) next dir (0.0, 1.0)\n",
      "angle:  1.5707963267948966  xy-1:  329.5 , 211.375  xy:  329.5 , 211.5  xy+1:  329.25 , 211.5 prev dir (0.0, 1.0) next dir (-1.0, 0.0)\n",
      "angle:  1.5707963267948966  xy-1:  329.5 , 211.5  xy:  329.25 , 211.5  xy+1:  329.25 , 211.625 prev dir (-1.0, 0.0) next dir (0.0, 1.0)\n",
      "angle:  1.5707963267948966  xy-1:  329.25 , 211.5  xy:  329.25 , 211.625  xy+1:  329.0 , 211.625 prev dir (0.0, 1.0) next dir (-1.0, 0.0)\n",
      "angle:  1.5707963267948966  xy-1:  329.0 , 211.625  xy:  328.75 , 211.625  xy+1:  328.75 , 211.5 prev dir (-1.0, 0.0) next dir (0.0, -1.0)\n",
      "angle:  1.5707963267948966  xy-1:  328.75 , 211.625  xy:  328.75 , 211.5  xy+1:  328.5 , 211.5 prev dir (0.0, -1.0) next dir (-1.0, 0.0)\n",
      "angle:  1.5707963267948966  xy-1:  327.75 , 211.5  xy:  327.5 , 211.5  xy+1:  327.5 , 211.375 prev dir (-1.0, 0.0) next dir (0.0, -1.0)\n",
      "angle:  1.5707963267948966  xy-1:  327.5 , 211.5  xy:  327.5 , 211.375  xy+1:  327.25 , 211.375 prev dir (0.0, -1.0) next dir (-1.0, 0.0)\n",
      "angle:  2.0344439357957027  xy-1:  291.75 , 235.0  xy:  291.75 , 235.125  xy+1:  292.0 , 235.0 prev dir (0.0, 1.0) next dir (0.8944271909999159, -0.4472135954999579)\n",
      "angle:  1.5707963267948966  xy-1:  292.0 , 235.0  xy:  292.0 , 234.875  xy+1:  292.25 , 234.875 prev dir (0.0, -1.0) next dir (1.0, 0.0)\n",
      "angle:  1.5707963267948966  xy-1:  293.0 , 234.375  xy:  293.0 , 234.25  xy+1:  293.25 , 234.25 prev dir (0.0, -1.0) next dir (1.0, 0.0)\n",
      "angle:  1.5707963267948966  xy-1:  294.0 , 233.75  xy:  294.25 , 233.75  xy+1:  294.25 , 233.625 prev dir (1.0, 0.0) next dir (0.0, -1.0)\n",
      "angle:  1.5707963267948966  xy-1:  294.5 , 233.5  xy:  294.5 , 233.375  xy+1:  294.75 , 233.375 prev dir (0.0, -1.0) next dir (1.0, 0.0)\n",
      "angle:  1.5707963267948966  xy-1:  294.5 , 233.375  xy:  294.75 , 233.375  xy+1:  294.75 , 233.25 prev dir (1.0, 0.0) next dir (0.0, -1.0)\n",
      "angle:  1.5707963267948966  xy-1:  295.25 , 232.875  xy:  295.25 , 232.75  xy+1:  295.5 , 232.75 prev dir (0.0, -1.0) next dir (1.0, 0.0)\n",
      "angle:  1.5707963267948966  xy-1:  295.25 , 232.75  xy:  295.5 , 232.75  xy+1:  295.5 , 232.625 prev dir (1.0, 0.0) next dir (0.0, -1.0)\n",
      "angle:  1.5707963267948966  xy-1:  296.0 , 232.25  xy:  296.0 , 232.125  xy+1:  296.25 , 232.125 prev dir (0.0, -1.0) next dir (1.0, 0.0)\n",
      "angle:  1.5707963267948966  xy-1:  296.0 , 232.125  xy:  296.25 , 232.125  xy+1:  296.25 , 232.0 prev dir (1.0, 0.0) next dir (0.0, -1.0)\n",
      "angle:  1.5707963267948966  xy-1:  296.75 , 231.75  xy:  296.75 , 231.625  xy+1:  297.0 , 231.625 prev dir (0.0, -1.0) next dir (1.0, 0.0)\n",
      "angle:  1.5707963267948966  xy-1:  297.25 , 231.5  xy:  297.25 , 231.375  xy+1:  297.5 , 231.375 prev dir (0.0, -1.0) next dir (1.0, 0.0)\n",
      "angle:  1.5707963267948966  xy-1:  297.25 , 231.375  xy:  297.5 , 231.375  xy+1:  297.5 , 231.25 prev dir (1.0, 0.0) next dir (0.0, -1.0)\n",
      "angle:  1.5707963267948966  xy-1:  297.75 , 231.125  xy:  298.0 , 231.125  xy+1:  298.0 , 231.0 prev dir (1.0, 0.0) next dir (0.0, -1.0)\n",
      "angle:  1.5707963267948966  xy-1:  299.0 , 230.5  xy:  299.25 , 230.5  xy+1:  299.25 , 230.375 prev dir (1.0, 0.0) next dir (0.0, -1.0)\n",
      "angle:  1.5707963267948966  xy-1:  300.0 , 230.125  xy:  300.0 , 230.0  xy+1:  300.25 , 230.0 prev dir (0.0, -1.0) next dir (1.0, 0.0)\n",
      "angle:  1.5707963267948966  xy-1:  300.5 , 229.875  xy:  300.5 , 229.75  xy+1:  300.75 , 229.75 prev dir (0.0, -1.0) next dir (1.0, 0.0)\n",
      "angle:  1.5707963267948966  xy-1:  301.25 , 230.125  xy:  301.25 , 230.25  xy+1:  301.0 , 230.25 prev dir (0.0, 1.0) next dir (-1.0, 0.0)\n",
      "angle:  1.5707963267948966  xy-1:  301.25 , 230.25  xy:  301.0 , 230.25  xy+1:  301.0 , 230.375 prev dir (-1.0, 0.0) next dir (0.0, 1.0)\n",
      "angle:  1.5707963267948966  xy-1:  279.0 , 266.5  xy:  279.25 , 266.5  xy+1:  279.25 , 266.75 prev dir (1.0, 0.0) next dir (0.0, 1.0)\n",
      "angle:  1.5707963267948966  xy-1:  279.25 , 266.75  xy:  279.5 , 266.75  xy+1:  279.5 , 267.0 prev dir (1.0, 0.0) next dir (0.0, 1.0)\n",
      "angle:  1.5707963267948966  xy-1:  279.75 , 267.0  xy:  279.75 , 267.25  xy+1:  280.0 , 267.25 prev dir (0.0, 1.0) next dir (1.0, 0.0)\n",
      "angle:  1.5707963267948966  xy-1:  278.5 , 268.5  xy:  278.75 , 268.5  xy+1:  278.75 , 268.75 prev dir (1.0, 0.0) next dir (0.0, 1.0)\n",
      "angle:  1.5707963267948966  xy-1:  279.0 , 268.75  xy:  279.0 , 269.0  xy+1:  279.25 , 269.0 prev dir (0.0, 1.0) next dir (1.0, 0.0)\n",
      "angle:  1.5707963267948966  xy-1:  280.5 , 268.25  xy:  280.75 , 268.25  xy+1:  280.75 , 268.0 prev dir (1.0, 0.0) next dir (0.0, -1.0)\n",
      "angle:  1.5707963267948966  xy-1:  281.5 , 267.75  xy:  281.5 , 267.5  xy+1:  281.75 , 267.5 prev dir (0.0, -1.0) next dir (1.0, 0.0)\n",
      "angle:  1.5707963267948966  xy-1:  282.0 , 266.75  xy:  282.0 , 266.5  xy+1:  282.25 , 266.5 prev dir (0.0, -1.0) next dir (1.0, 0.0)\n",
      "angle:  1.5707963267948966  xy-1:  282.0 , 266.5  xy:  282.25 , 266.5  xy+1:  282.25 , 266.25 prev dir (1.0, 0.0) next dir (0.0, -1.0)\n",
      "angle:  1.5707963267948966  xy-1:  282.5 , 265.25  xy:  282.5 , 265.0  xy+1:  282.75 , 265.0 prev dir (0.0, -1.0) next dir (1.0, 0.0)\n",
      "angle:  1.5707963267948966  xy-1:  282.5 , 265.0  xy:  282.75 , 265.0  xy+1:  282.75 , 264.75 prev dir (1.0, 0.0) next dir (0.0, -1.0)\n",
      "angle:  1.5707963267948966  xy-1:  306.0 , 215.375  xy:  305.75 , 215.375  xy+1:  305.75 , 215.25 prev dir (-1.0, 0.0) next dir (0.0, -1.0)\n",
      "angle:  1.5707963267948966  xy-1:  305.25 , 214.875  xy:  305.0 , 214.875  xy+1:  305.0 , 215.0 prev dir (-1.0, 0.0) next dir (0.0, 1.0)\n",
      "angle:  1.5707963267948966  xy-1:  305.0 , 214.875  xy:  305.0 , 215.0  xy+1:  304.75 , 215.0 prev dir (0.0, 1.0) next dir (-1.0, 0.0)\n",
      "angle:  1.5707963267948966  xy-1:  301.5 , 222.5  xy:  301.5 , 222.625  xy+1:  301.25 , 222.625 prev dir (0.0, 1.0) next dir (-1.0, 0.0)\n",
      "angle:  1.5707963267948966  xy-1:  301.5 , 222.625  xy:  301.25 , 222.625  xy+1:  301.25 , 222.75 prev dir (-1.0, 0.0) next dir (0.0, 1.0)\n",
      "angle:  1.5707963267948966  xy-1:  296.75 , 226.625  xy:  296.5 , 226.625  xy+1:  296.5 , 226.5 prev dir (-1.0, 0.0) next dir (0.0, -1.0)\n",
      "angle:  1.5707963267948966  xy-1:  296.25 , 226.375  xy:  296.0 , 226.375  xy+1:  296.0 , 226.25 prev dir (-1.0, 0.0) next dir (0.0, -1.0)\n",
      "angle:  1.5707963267948966  xy-1:  295.5 , 226.125  xy:  295.5 , 226.0  xy+1:  295.25 , 226.0 prev dir (0.0, -1.0) next dir (-1.0, 0.0)\n",
      "angle:  1.5707963267948966  xy-1:  295.0 , 225.875  xy:  295.0 , 225.75  xy+1:  294.75 , 225.75 prev dir (0.0, -1.0) next dir (-1.0, 0.0)\n",
      "angle:  3.141592653589793  xy-1:  295.0 , 225.75  xy:  294.75 , 225.75  xy+1:  295.0 , 225.75 prev dir (-1.0, 0.0) next dir (1.0, 0.0)\n",
      "angle:  1.5707963267948966  xy-1:  294.75 , 225.75  xy:  295.0 , 225.75  xy+1:  295.0 , 225.625 prev dir (1.0, 0.0) next dir (0.0, -1.0)\n",
      "angle:  1.5707963267948966  xy-1:  295.0 , 225.75  xy:  295.0 , 225.625  xy+1:  295.25 , 225.625 prev dir (0.0, -1.0) next dir (1.0, 0.0)\n",
      "angle:  1.5707963267948966  xy-1:  295.25 , 225.625  xy:  295.5 , 225.625  xy+1:  295.5 , 225.5 prev dir (1.0, 0.0) next dir (0.0, -1.0)\n",
      "angle:  1.5707963267948966  xy-1:  295.5 , 225.625  xy:  295.5 , 225.5  xy+1:  295.75 , 225.5 prev dir (0.0, -1.0) next dir (1.0, 0.0)\n",
      "angle:  1.5707963267948966  xy-1:  296.0 , 225.375  xy:  296.25 , 225.375  xy+1:  296.25 , 225.25 prev dir (1.0, 0.0) next dir (0.0, -1.0)\n",
      "angle:  1.5707963267948966  xy-1:  296.25 , 225.375  xy:  296.25 , 225.25  xy+1:  296.5 , 225.25 prev dir (0.0, -1.0) next dir (1.0, 0.0)\n",
      "angle:  1.5707963267948966  xy-1:  296.5 , 225.25  xy:  296.75 , 225.25  xy+1:  296.75 , 225.125 prev dir (1.0, 0.0) next dir (0.0, -1.0)\n",
      "angle:  1.5707963267948966  xy-1:  296.75 , 225.25  xy:  296.75 , 225.125  xy+1:  297.0 , 225.125 prev dir (0.0, -1.0) next dir (1.0, 0.0)\n",
      "angle:  1.5707963267948966  xy-1:  298.5 , 224.75  xy:  298.75 , 224.75  xy+1:  298.75 , 224.625 prev dir (1.0, 0.0) next dir (0.0, -1.0)\n",
      "angle:  1.5707963267948966  xy-1:  298.75 , 224.75  xy:  298.75 , 224.625  xy+1:  299.0 , 224.625 prev dir (0.0, -1.0) next dir (1.0, 0.0)\n",
      "angle:  1.5707963267948966  xy-1:  305.75 , 221.5  xy:  306.0 , 221.5  xy+1:  306.0 , 221.625 prev dir (1.0, 0.0) next dir (0.0, 1.0)\n",
      "angle:  1.5707963267948966  xy-1:  306.0 , 221.5  xy:  306.0 , 221.625  xy+1:  306.25 , 221.625 prev dir (0.0, 1.0) next dir (1.0, 0.0)\n",
      "angle:  1.5707963267948966  xy-1:  306.25 , 222.25  xy:  306.0 , 222.25  xy+1:  306.0 , 222.375 prev dir (-1.0, 0.0) next dir (0.0, 1.0)\n",
      "angle:  1.5707963267948966  xy-1:  305.5 , 222.875  xy:  305.5 , 223.0  xy+1:  305.25 , 223.0 prev dir (0.0, 1.0) next dir (-1.0, 0.0)\n",
      "angle:  1.5707963267948966  xy-1:  299.75 , 225.375  xy:  299.75 , 225.5  xy+1:  299.5 , 225.5 prev dir (0.0, 1.0) next dir (-1.0, 0.0)\n",
      "angle:  1.5707963267948966  xy-1:  299.75 , 225.5  xy:  299.5 , 225.5  xy+1:  299.5 , 225.625 prev dir (-1.0, 0.0) next dir (0.0, 1.0)\n",
      "angle:  1.5707963267948966  xy-1:  299.25 , 225.75  xy:  299.25 , 225.875  xy+1:  299.0 , 225.875 prev dir (0.0, 1.0) next dir (-1.0, 0.0)\n",
      "angle:  1.5707963267948966  xy-1:  299.25 , 225.875  xy:  299.0 , 225.875  xy+1:  299.0 , 226.0 prev dir (-1.0, 0.0) next dir (0.0, 1.0)\n",
      "angle:  1.5707963267948966  xy-1:  298.75 , 226.125  xy:  298.75 , 226.25  xy+1:  298.5 , 226.25 prev dir (0.0, 1.0) next dir (-1.0, 0.0)\n",
      "angle:  1.5707963267948966  xy-1:  298.75 , 226.25  xy:  298.5 , 226.25  xy+1:  298.5 , 226.375 prev dir (-1.0, 0.0) next dir (0.0, 1.0)\n",
      "angle:  1.5707963267948966  xy-1:  298.25 , 226.5  xy:  298.25 , 226.625  xy+1:  298.0 , 226.625 prev dir (0.0, 1.0) next dir (-1.0, 0.0)\n",
      "angle:  1.5707963267948966  xy-1:  298.25 , 226.625  xy:  298.0 , 226.625  xy+1:  298.0 , 226.75 prev dir (-1.0, 0.0) next dir (0.0, 1.0)\n",
      "angle:  1.5707963267948966  xy-1:  295.25 , 230.375  xy:  295.25 , 230.5  xy+1:  295.5 , 230.5 prev dir (0.0, 1.0) next dir (1.0, 0.0)\n",
      "angle:  1.5707963267948966  xy-1:  295.25 , 230.5  xy:  295.5 , 230.5  xy+1:  295.5 , 230.625 prev dir (1.0, 0.0) next dir (0.0, 1.0)\n",
      "angle:  1.5707963267948966  xy-1:  296.5 , 231.25  xy:  296.75 , 231.25  xy+1:  296.75 , 231.125 prev dir (1.0, 0.0) next dir (0.0, -1.0)\n",
      "angle:  1.5707963267948966  xy-1:  296.75 , 231.25  xy:  296.75 , 231.125  xy+1:  297.0 , 231.125 prev dir (0.0, -1.0) next dir (1.0, 0.0)\n",
      "angle:  1.5707963267948966  xy-1:  298.25 , 230.75  xy:  298.5 , 230.75  xy+1:  298.5 , 230.625 prev dir (1.0, 0.0) next dir (0.0, -1.0)\n",
      "angle:  1.5707963267948966  xy-1:  298.5 , 230.75  xy:  298.5 , 230.625  xy+1:  298.75 , 230.625 prev dir (0.0, -1.0) next dir (1.0, 0.0)\n",
      "angle:  1.5707963267948966  xy-1:  299.5 , 230.375  xy:  299.5 , 230.25  xy+1:  299.75 , 230.25 prev dir (0.0, -1.0) next dir (1.0, 0.0)\n",
      "angle:  1.5707963267948966  xy-1:  299.5 , 230.25  xy:  299.75 , 230.25  xy+1:  299.75 , 230.125 prev dir (1.0, 0.0) next dir (0.0, -1.0)\n",
      "angle:  1.5707963267948966  xy-1:  300.75 , 229.375  xy:  300.75 , 229.25  xy+1:  301.0 , 229.25 prev dir (0.0, -1.0) next dir (1.0, 0.0)\n",
      "angle:  1.5707963267948966  xy-1:  300.75 , 229.25  xy:  301.0 , 229.25  xy+1:  301.0 , 229.125 prev dir (1.0, 0.0) next dir (0.0, -1.0)\n",
      "angle:  1.5707963267948966  xy-1:  301.0 , 229.125  xy:  301.0 , 229.0  xy+1:  300.75 , 229.0 prev dir (0.0, -1.0) next dir (-1.0, 0.0)\n",
      "angle:  1.5707963267948966  xy-1:  301.0 , 229.0  xy:  300.75 , 229.0  xy+1:  300.75 , 228.875 prev dir (-1.0, 0.0) next dir (0.0, -1.0)\n",
      "angle:  1.5707963267948966  xy-1:  300.75 , 228.75  xy:  300.5 , 228.75  xy+1:  300.5 , 228.625 prev dir (-1.0, 0.0) next dir (0.0, -1.0)\n",
      "angle:  1.5707963267948966  xy-1:  300.5 , 228.5  xy:  300.5 , 228.375  xy+1:  300.25 , 228.375 prev dir (0.0, -1.0) next dir (-1.0, 0.0)\n",
      "angle:  1.5707963267948966  xy-1:  300.5 , 228.375  xy:  300.25 , 228.375  xy+1:  300.25 , 228.25 prev dir (-1.0, 0.0) next dir (0.0, -1.0)\n",
      "angle:  1.5707963267948966  xy-1:  298.75 , 228.25  xy:  298.5 , 228.25  xy+1:  298.5 , 228.125 prev dir (-1.0, 0.0) next dir (0.0, -1.0)\n",
      "angle:  1.5707963267948966  xy-1:  298.5 , 228.25  xy:  298.5 , 228.125  xy+1:  298.25 , 228.125 prev dir (0.0, -1.0) next dir (-1.0, 0.0)\n",
      "angle:  1.5707963267948966  xy-1:  290.75 , 233.375  xy:  290.75 , 233.25  xy+1:  290.5 , 233.25 prev dir (0.0, -1.0) next dir (-1.0, 0.0)\n",
      "angle:  1.5707963267948966  xy-1:  290.5 , 232.875  xy:  290.25 , 232.875  xy+1:  290.25 , 232.75 prev dir (-1.0, 0.0) next dir (0.0, -1.0)\n",
      "angle:  1.5707963267948966  xy-1:  291.0 , 234.625  xy:  291.25 , 234.625  xy+1:  291.25 , 234.5 prev dir (1.0, 0.0) next dir (0.0, -1.0)\n",
      "angle:  1.5707963267948966  xy-1:  291.25 , 234.625  xy:  291.25 , 234.5  xy+1:  291.5 , 234.5 prev dir (0.0, -1.0) next dir (1.0, 0.0)\n",
      "angle:  1.5707963267948966  xy-1:  291.75 , 234.375  xy:  292.0 , 234.375  xy+1:  292.0 , 234.25 prev dir (1.0, 0.0) next dir (0.0, -1.0)\n",
      "angle:  1.5707963267948966  xy-1:  292.0 , 234.375  xy:  292.0 , 234.25  xy+1:  292.25 , 234.25 prev dir (0.0, -1.0) next dir (1.0, 0.0)\n",
      "angle:  1.5707963267948966  xy-1:  292.5 , 234.125  xy:  292.75 , 234.125  xy+1:  292.75 , 234.0 prev dir (1.0, 0.0) next dir (0.0, -1.0)\n",
      "angle:  1.5707963267948966  xy-1:  292.75 , 234.125  xy:  292.75 , 234.0  xy+1:  293.0 , 234.0 prev dir (0.0, -1.0) next dir (1.0, 0.0)\n",
      "angle:  1.5707963267948966  xy-1:  293.25 , 233.875  xy:  293.5 , 233.875  xy+1:  293.5 , 233.75 prev dir (1.0, 0.0) next dir (0.0, -1.0)\n",
      "angle:  1.5707963267948966  xy-1:  293.5 , 233.875  xy:  293.5 , 233.75  xy+1:  293.75 , 233.75 prev dir (0.0, -1.0) next dir (1.0, 0.0)\n",
      "angle:  2.0344439357957027  xy-1:  307.5 , 209.75  xy:  307.5 , 209.625  xy+1:  307.25 , 209.75 prev dir (0.0, -1.0) next dir (-0.8944271909999159, 0.4472135954999579)\n",
      "angle:  2.677945044588987  xy-1:  305.0 , 211.25  xy:  304.75 , 211.375  xy+1:  305.0 , 211.375 prev dir (-0.8944271909999159, 0.4472135954999579) next dir (1.0, 0.0)\n",
      "Direction changes greater detected at the following points:\n",
      "67\n",
      "68\n",
      "80\n",
      "81\n",
      "101\n",
      "102\n",
      "104\n",
      "105\n",
      "107\n",
      "108\n",
      "111\n",
      "112\n",
      "114\n",
      "115\n",
      "117\n",
      "118\n",
      "121\n",
      "122\n",
      "127\n",
      "128\n",
      "131\n",
      "132\n",
      "133\n",
      "136\n",
      "137\n",
      "144\n",
      "145\n",
      "284\n",
      "286\n",
      "292\n",
      "298\n",
      "301\n",
      "302\n",
      "308\n",
      "309\n",
      "315\n",
      "316\n",
      "321\n",
      "324\n",
      "325\n",
      "328\n",
      "336\n",
      "341\n",
      "344\n",
      "374\n",
      "375\n",
      "467\n",
      "470\n",
      "476\n",
      "522\n",
      "527\n",
      "587\n",
      "598\n",
      "604\n",
      "605\n",
      "611\n",
      "612\n",
      "776\n",
      "792\n",
      "793\n",
      "840\n",
      "841\n",
      "901\n",
      "905\n",
      "911\n",
      "915\n",
      "916\n",
      "917\n",
      "918\n",
      "921\n",
      "922\n",
      "927\n",
      "928\n",
      "931\n",
      "932\n",
      "940\n",
      "941\n",
      "974\n",
      "975\n",
      "1005\n",
      "1011\n",
      "1034\n",
      "1035\n",
      "1038\n",
      "1039\n",
      "1042\n",
      "1043\n",
      "1046\n",
      "1047\n",
      "1092\n",
      "1093\n",
      "1120\n",
      "1121\n",
      "1128\n",
      "1129\n",
      "1134\n",
      "1135\n",
      "1146\n",
      "1147\n",
      "1150\n",
      "1151\n",
      "1156\n",
      "1161\n",
      "1162\n",
      "1174\n",
      "1175\n",
      "1220\n",
      "1229\n",
      "1265\n",
      "1266\n",
      "1271\n",
      "1272\n",
      "1277\n",
      "1278\n",
      "1283\n",
      "1284\n",
      "1385\n",
      "1400\n"
     ]
    }
   ],
   "source": [
    "import math \n",
    "\n",
    "def calculate_direction_vector(x1, y1, x2, y2):\n",
    "    \"\"\"\n",
    "    Calculate the direction vector from (x1, y1) to (x2, y2).\n",
    "    \"\"\"\n",
    "    delta_x = x2 - x1\n",
    "    delta_y = y2 - y1\n",
    "    magnitude = math.sqrt(delta_x**2 + delta_y**2)\n",
    "    \n",
    "    if magnitude == 0:\n",
    "        return (0, 0)  # Avoid division by zero\n",
    "    \n",
    "    return (delta_x / magnitude, delta_y / magnitude)\n",
    "\n",
    "def find_direction_change_indices(x_coords, y_coords, angle_threshold=1.570):  # 2.094 120 degrees in radians\n",
    "    if len(x_coords) < 3 or len(y_coords) < 3 or len(x_coords) != len(y_coords):\n",
    "        return []  # Invalid data\n",
    "    \n",
    "    direction_change_indices = []\n",
    "    \n",
    "    for i in range(1, len(x_coords) - 1):\n",
    "        prev_direction = calculate_direction_vector(x_coords[i-1], y_coords[i-1], x_coords[i], y_coords[i])\n",
    "        next_direction = calculate_direction_vector(x_coords[i], y_coords[i], x_coords[i+1], y_coords[i+1])\n",
    "        \n",
    "        # Check if either of the directions is zero (no movement)\n",
    "        if prev_direction == (0, 0) or next_direction == (0, 0):\n",
    "            continue\n",
    "            \n",
    "        dot_product = prev_direction[0] * next_direction[0] + prev_direction[1] * next_direction[1]\n",
    "        \n",
    "        # Calculate the angle between direction vectors using the dot product\n",
    "        angle = math.acos(max(-1, min(1, dot_product)))\n",
    "        \n",
    "        # Check if the angle is greater than the threshold (120 degrees)\n",
    "        if angle > angle_threshold:\n",
    "            print(\"angle: \",angle,\" xy-1: \",x_coords[i-1],\",\",y_coords[i-1],\" xy: \",x_coords[i],\",\", y_coords[i], \" xy+1: \",x_coords[i+1],\",\",y_coords[i+1],\"prev dir\",prev_direction,\"next dir\",next_direction)\n",
    "            direction_change_indices.append(i)\n",
    "    \n",
    "    return direction_change_indices\n",
    "\n",
    "direction_changes = find_direction_change_indices(list(x), list(y))\n",
    "\n",
    "if direction_changes:\n",
    "    print(\"Direction changes greater detected at the following points:\")\n",
    "    for point in direction_changes:\n",
    "        print(point)\n",
    "else:\n",
    "    print(\"No direction changes detected.\")"
   ]
  },
  {
   "cell_type": "code",
   "execution_count": 43,
   "metadata": {},
   "outputs": [
    {
     "data": {
      "text/plain": [
       "[<matplotlib.lines.Line2D at 0x310da4e90>]"
      ]
     },
     "execution_count": 43,
     "metadata": {},
     "output_type": "execute_result"
    }
   ],
   "source": [
    "#plt.plot(dead_end_df.index)\n",
    "plt.plot(dead_end_df.tri)"
   ]
  },
  {
   "cell_type": "code",
   "execution_count": 189,
   "metadata": {},
   "outputs": [
    {
     "data": {
      "text/plain": [
       "369628    185.375\n",
       "369629    185.500\n",
       "369630    185.625\n",
       "369631    185.625\n",
       "369632    185.750\n",
       "           ...   \n",
       "374192    179.125\n",
       "374193    179.000\n",
       "374194    178.750\n",
       "374195    178.500\n",
       "374196    178.250\n",
       "Name: x, Length: 4569, dtype: float16"
      ]
     },
     "execution_count": 189,
     "metadata": {},
     "output_type": "execute_result"
    }
   ],
   "source": []
  },
  {
   "cell_type": "code",
   "execution_count": 46,
   "metadata": {},
   "outputs": [
    {
     "data": {
      "text/plain": [
       "<matplotlib.collections.PathCollection at 0x310e25a90>"
      ]
     },
     "execution_count": 46,
     "metadata": {},
     "output_type": "execute_result"
    }
   ],
   "source": [
    "fig, ax = plt.subplots()\n",
    "#ax.imshow(img, alpha=0.3)\n",
    "ax.invert_yaxis()\n",
    "ax.scatter(dead_end_df.x, dead_end_df.y, c='grey')\n",
    "ax.scatter(dead_end_df.x_pred, dead_end_df.y_pred, c='yellow')\n",
    "    #ax.text(minx+xshift, miny+yshift, 'Rat in {}, pred in {}'.format(int(df.hexlabels[i]), df.pred_hexlabels[i]), verticalalignment='top', horizontalalignment='left', fontsize=15)\n",
    "    #camera.snap()\n",
    "    #animation = camera.animate(interval=10, blit=True)"
   ]
  },
  {
   "cell_type": "code",
   "execution_count": null,
   "metadata": {},
   "outputs": [],
   "source": [
    "# extract the stuff we care about once so plotting is way faster\n",
    "x = df.x\n",
    "y = df.y\n",
    "minx = np.nanmin(x)\n",
    "miny = np.nanmin(y)\n",
    "maxx = np.nanmax(x)\n",
    "maxy = np.nanmax(y)\n",
    "\n",
    "xpred = df.x_pred[(df.block==blocknum)&(df.tri==trialnum)]\n",
    "ypred = df.y_pred[(df.block==blocknum)&(df.tri==trialnum)]\n",
    "x = df.x[(df.block==blocknum)&(df.tri==trialnum)]\n",
    "y = df.y[(df.block==blocknum)&(df.tri==trialnum)]\n",
    "dopamine = normalize(df.green_z_scored[(df.block==blocknum)&(df.tri==trialnum)])\n",
    "\n",
    "img = plt.imread(\"hex_background.png\")\n",
    "fig, (ax1, ax2) = plt.subplots(1,2)\n",
    "ax1.imshow(img, extent=[minx+xshift-imscale, maxx+xshift+imscale, maxy+yshift+imscale, miny+yshift-imscale])\n",
    "ax1.scatter(x, y, c=dopamine, cmap='plasma', alpha=0.3)\n",
    "ax2.imshow(img, extent=[minx+xshift-imscale, maxx+xshift+imscale, maxy+yshift+imscale, miny+yshift-imscale])\n",
    "ax2.scatter(xpred, ypred, c=dopamine, cmap='plasma', alpha=0.3)"
   ]
  }
 ],
 "metadata": {
  "kernelspec": {
   "display_name": "Python 3 (ipykernel)",
   "language": "python",
   "name": "python3"
  },
  "language_info": {
   "codemirror_mode": {
    "name": "ipython",
    "version": 3
   },
   "file_extension": ".py",
   "mimetype": "text/x-python",
   "name": "python",
   "nbconvert_exporter": "python",
   "pygments_lexer": "ipython3",
   "version": "3.11.5"
  }
 },
 "nbformat": 4,
 "nbformat_minor": 4
}
