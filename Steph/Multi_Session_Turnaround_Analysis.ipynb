{
 "cells": [
  {
   "cell_type": "code",
   "execution_count": 1,
   "id": "5af3fb66",
   "metadata": {},
   "outputs": [],
   "source": [
    "import sys\n",
    "path1 = '/Users/steph/berkelab/DA_maze/DA/Modules/'\n",
    "path2 = '/Users/steph/berkelab/DA_maze/Behavior/Modules/'\n",
    "sys.path += [path1,path2]\n",
    "\n",
    "import numpy as np\n",
    "import pandas as pd\n",
    "import math\n",
    "from matplotlib import pyplot as plt\n",
    "from turnaround_functions import *\n",
    "from multi_rat_da import *\n",
    "from celluloid import Camera\n",
    "from pdf2image import convert_from_path\n",
    "from mpl_toolkits.axes_grid1 import make_axes_locatable\n",
    "%matplotlib qt\n",
    "\n",
    "phot_path = \"/Volumes/Tim/Photometry/\"\n",
    "ephys_path = \"/Volumes/Tim/Ephys/\"\n",
    "min_dead_end_length = 3"
   ]
  },
  {
   "cell_type": "markdown",
   "id": "70b40347",
   "metadata": {},
   "source": [
    "### Data Preprocessing\n",
    "- For each session, load dataframe + transition matrix\n",
    "- Add a bunch of columns to the dataframe to make it easy to slice and iterate based on different things\n",
    "- Print some stats about this session"
   ]
  },
  {
   "cell_type": "code",
   "execution_count": 4,
   "id": "db3cc52a",
   "metadata": {},
   "outputs": [],
   "source": [
    "def load_dataframe_and_tmat(base_path, block_num):\n",
    "    \"\"\" Load transition matrix and dataframe for this session \"\"\"\n",
    "    \n",
    "    tmat_suffix = \"\" if block_num == 0 else \"_block_{}.0\".format(block_num)\n",
    "    transition_mat = np.load(phot_path+base_path+\"/tmat\"+tmat_suffix+\".npy\")\n",
    "    df = reduce_mem_usage(pd.read_csv(ephys_path+base_path+\"/phot_decode_df_withHexStates.csv\"))\n",
    "    if block_num !=0:\n",
    "        df = df[df.block==block_num]\n",
    "    return df, transition_mat\n",
    "\n",
    "\n",
    "def do_preprocessing(df, transition_mat):\n",
    "    \"\"\" Add a bunch of columns to the dataframe for dead end analysis \"\"\"\n",
    "\n",
    "    # Use the transition matrix to get paths to dead end hexes\n",
    "    dead_end_paths = get_all_dead_end_paths(transition_mat, min_dead_end_length)\n",
    "\n",
    "    # Get subset of dataframe where rat the is in dead ends\n",
    "    dead_end_hexes = [hex for path in dead_end_paths for hex in path]\n",
    "    indices = [i for i in df.index if df['hexlabels'][i] in dead_end_hexes]\n",
    "    dead_end_df = df.loc[df.index.isin(indices)].copy()\n",
    "\n",
    "    # Add column to the dataframe labeling which dead end path we are in\n",
    "    print(\"Paths to dead end hexes:\", dead_end_paths)\n",
    "    path = find_dead_end_path_for_hex(dead_end_df.hexlabels, dead_end_paths)\n",
    "    dead_end_df['dead_end_path'] = path\n",
    "\n",
    "    # Add column to the dataframe counting each entry into a dead end path (one count for all dead end paths)\n",
    "    dead_end_entry = divide_into_sections(dead_end_df.index)\n",
    "    dead_end_df['dead_end_entry'] = dead_end_entry\n",
    "    print(\"The rat entered a dead end path\", max(dead_end_entry), \"times in this session.\")\n",
    "\n",
    "    # Add column to the dataframe counting the entry into each dead end path (different counts for each dead end path)\n",
    "    individual_dead_end_entry, dead_end_counts = count_entries_for_each_dead_end(path, dead_end_entry)\n",
    "    dead_end_df['individual_dead_end_entry'] = individual_dead_end_entry\n",
    "    print(\"Entry counts for each dead end path:\", dead_end_counts)\n",
    "\n",
    "    # Add columns to the dataframe indicating how far down a dead end path we got and how long we spent in that path\n",
    "    hexes_traveled_list, time_spent_list = get_stats(dead_end_df)\n",
    "    dead_end_entry_from_zero = [x-1 for x in dead_end_entry] # adjust to start at 0 so we can use as an index\n",
    "    dead_end_df['max_hexes_traveled'] = expand_second_list(dead_end_entry_from_zero, hexes_traveled_list)\n",
    "    dead_end_df['time_in_dead_end'] = expand_second_list(dead_end_entry_from_zero, time_spent_list)\n",
    "\n",
    "    # Add column to the dataframe of indices centered around the turnaround point\n",
    "    dead_end_df['centered_indices'] = get_centered_indices(dead_end_df)\n",
    "    \n",
    "    return dead_end_df"
   ]
  },
  {
   "cell_type": "code",
   "execution_count": 6,
   "id": "5970d8af",
   "metadata": {},
   "outputs": [
    {
     "name": "stdout",
     "output_type": "stream",
     "text": [
      "Memory usage of dataframe is 489.81 MB\n",
      "Memory usage after optimization is: 114.80 MB\n",
      "Decreased by 76.6%\n",
      "Paths to dead end hexes: [[9, 12, 16, 20]]\n",
      "The rat entered a dead end path 21 times in this session.\n",
      "Entry counts for each dead end path: {9: 21}\n",
      "Memory usage of dataframe is 534.37 MB\n",
      "Memory usage after optimization is: 125.24 MB\n",
      "Decreased by 76.6%\n",
      "Paths to dead end hexes: [[12, 15, 19]]\n",
      "The rat entered a dead end path 1 times in this session.\n",
      "Entry counts for each dead end path: {12: 1}\n",
      "Memory usage of dataframe is 534.37 MB\n",
      "Memory usage after optimization is: 125.24 MB\n",
      "Decreased by 76.6%\n",
      "Paths to dead end hexes: [[11, 14, 17]]\n",
      "The rat entered a dead end path 8 times in this session.\n",
      "Entry counts for each dead end path: {11: 8}\n",
      "Memory usage of dataframe is 522.47 MB\n",
      "Memory usage after optimization is: 122.46 MB\n",
      "Decreased by 76.6%\n",
      "Paths to dead end hexes: [[11, 8, 6], [18, 22, 27], [21, 17, 13]]\n",
      "The rat entered a dead end path 37 times in this session.\n",
      "Entry counts for each dead end path: {21: 6, 11: 14, 18: 17}\n",
      "Memory usage of dataframe is 424.99 MB\n",
      "Memory usage after optimization is: 102.63 MB\n",
      "Decreased by 75.9%\n",
      "Paths to dead end hexes: [[24, 19, 23]]\n",
      "The rat entered a dead end path 6 times in this session.\n",
      "Entry counts for each dead end path: {24: 6}\n",
      "Memory usage of dataframe is 424.99 MB\n",
      "Memory usage after optimization is: 102.63 MB\n",
      "Decreased by 75.9%\n",
      "Paths to dead end hexes: [[24, 19, 23]]\n",
      "The rat entered a dead end path 1 times in this session.\n",
      "Entry counts for each dead end path: {24: 1}\n",
      "Memory usage of dataframe is 518.20 MB\n",
      "Memory usage after optimization is: 121.45 MB\n",
      "Decreased by 76.6%\n",
      "Paths to dead end hexes: [[16, 12, 15, 19, 24], [45, 41, 46]]\n",
      "The rat entered a dead end path 9 times in this session.\n",
      "Entry counts for each dead end path: {45: 4, 16: 5}\n",
      "Memory usage of dataframe is 518.20 MB\n",
      "Memory usage after optimization is: 121.45 MB\n",
      "Decreased by 76.6%\n",
      "Paths to dead end hexes: [[45, 41, 46]]\n",
      "The rat entered a dead end path 4 times in this session.\n",
      "Entry counts for each dead end path: {45: 4}\n",
      "Memory usage of dataframe is 518.20 MB\n",
      "Memory usage after optimization is: 121.45 MB\n",
      "Decreased by 76.6%\n",
      "Paths to dead end hexes: [[21, 26, 22, 27, 32, 37]]\n",
      "The rat entered a dead end path 8 times in this session.\n",
      "Entry counts for each dead end path: {21: 8}\n",
      "Memory usage of dataframe is 662.69 MB\n",
      "Memory usage after optimization is: 171.81 MB\n",
      "Decreased by 74.1%\n",
      "Paths to dead end hexes: [[18, 14, 17]]\n",
      "The rat entered a dead end path 6 times in this session.\n",
      "Entry counts for each dead end path: {18: 6}\n"
     ]
    }
   ],
   "source": [
    "# Quick and dirty way to load all of these for now!! \n",
    "base_paths = [\"IM-1478/07172022\",\"IM-1478/07192022\",\"IM-1478/07192022\",\"IM-1478/07202022\",\"IM-1478/07252022\",\n",
    "              \"IM-1478/07252022\",\"IM-1478/07272022\",\"IM-1478/07272022\",\"IM-1478/07272022\",\"IM-1594/07252023\"]\n",
    "blocks = [0,1,2,0,2,3,1,2,3,0]\n",
    "\n",
    "# Load all of the sessions and concatenate them into a mega dataframe\n",
    "df_list = []\n",
    "for base_path, block_num in zip(base_paths, blocks):\n",
    "    df, transition_mat = load_dataframe_and_tmat(base_path, block_num)\n",
    "    dead_end_df = do_preprocessing(df, transition_mat)\n",
    "    df_list.append(dead_end_df)\n",
    "\n",
    "big_df = pd.concat(df_list, ignore_index=True)"
   ]
  },
  {
   "cell_type": "markdown",
   "id": "b7d1c0cd",
   "metadata": {},
   "source": [
    "#### Notes\n",
    "\"IM-1478/07192022\", block 3 should be fine but is giving us UnboundLocalError: cannot access local variable 'exited_index' where it is not associated with a value\n",
    "\"IM-1594/07262023\" is saying it has an HUGE number of dead end entries (1000s??) on all blocks but errors out due to single values... maybe the rat just barely enters the dead end path? Mess with turnaround code so it doesn't ruin everything when we have small values\n",
    "- also, this dead end has a double dead end... not sure how to account for that"
   ]
  },
  {
   "cell_type": "code",
   "execution_count": 16,
   "id": "1f453e61",
   "metadata": {
    "scrolled": true
   },
   "outputs": [
    {
     "name": "stdout",
     "output_type": "stream",
     "text": [
      "Index(['Unnamed: 0', 'index', 'green_z_scored', 'port', 'rwd', 'x', 'y',\n",
      "       'nom_rwd_a', 'nom_rwd_b', 'beamA', 'beamB', 'beamC', 'tri', 'block',\n",
      "       'nom_rwd_c', 'hexlabels', 'lenAC', 'lenBC', 'lenAB', 'dtop', 'fiberloc',\n",
      "       'session_type', 'session', 'rat', 'date', 'lastleave', 'nom_rwd_chosen',\n",
      "       'vel', 'pairedHexStates', 'acc', 'decodeDistToRat', 'decodeHPD',\n",
      "       'x_pred', 'y_pred', 'mua', 'theta_env', 'theta_phase',\n",
      "       'theta_phase_bin', 'pred_hexlabels', 'pred_hexState', 'dead_end_path',\n",
      "       'dead_end_entry', 'individual_dead_end_entry', 'max_hexes_traveled',\n",
      "       'time_in_dead_end', 'centered_indices', 'Unnamed: 0.1', 'tot_tri',\n",
      "       'decodedVal', 'localVal'],\n",
      "      dtype='object')\n"
     ]
    },
    {
     "data": {
      "text/plain": [
       "[<matplotlib.lines.Line2D at 0x16a07ead0>]"
      ]
     },
     "execution_count": 16,
     "metadata": {},
     "output_type": "execute_result"
    }
   ],
   "source": [
    "# Print columns so we remember what data we're working with\n",
    "print(big_df.columns)"
   ]
  },
  {
   "cell_type": "markdown",
   "id": "bb5b3f6e",
   "metadata": {},
   "source": [
    "### Look at data across all entries into dead end paths\n",
    "Plot mean (with shaded error) of the rat's velocity, dopamine, and distance from decode as he turns around in a dead end"
   ]
  },
  {
   "cell_type": "code",
   "execution_count": 9,
   "id": "1ea7dab1",
   "metadata": {},
   "outputs": [],
   "source": [
    "data_to_plot = ['vel','green_z_scored','decodeDistToRat']\n",
    "\n",
    "# Desired start and end indices (250 indices = 1 second)\n",
    "start_index = -1000\n",
    "end_index = 1000\n",
    "\n",
    "# Calculate and plot mean and standard deviation\n",
    "for data_name in data_to_plot:\n",
    "    mean_arr, std_arr = get_mean_and_std(big_df, data_name, start_index, end_index)\n",
    "    plot_mean_with_error(mean_arr, std_arr, start_index, end_index, data_name)\n",
    "\n",
    "# Optional - Plot all of the lines just to see if we have anything weird going on (e.g. one session skewing the mean)\n",
    "plot_all_lines_check = False\n",
    "if plot_all_lines_check:\n",
    "    fig, ax = plt.subplots()\n",
    "    filtered_df = big_df[(big_df['centered_indices'] >= start_index) & (big_df['centered_indices'] <= end_index)]\n",
    "    num_dead_end_entries = max(big_df.dead_end_entry)+1\n",
    "    for entry in list(range(1, num_dead_end_entries)):\n",
    "        data = filtered_df[data_name][filtered_df.dead_end_entry==entry]\n",
    "        idx = filtered_df.centered_indices[filtered_df.dead_end_entry==entry]\n",
    "        ax.plot(convert_indices_to_time(idx, -1), data)\n",
    "    ax.set_xlabel(\"Time (s)\")\n",
    "    ax.set_ylabel(data_name)\n",
    "    plt.show()"
   ]
  },
  {
   "cell_type": "markdown",
   "id": "c4a6d1b8",
   "metadata": {},
   "source": [
    "Still working on this bit!"
   ]
  },
  {
   "cell_type": "code",
   "execution_count": 6,
   "id": "4ff4e90c",
   "metadata": {},
   "outputs": [],
   "source": [
    "def plot_histograms(hexes_traveled_list, time_spent_list):\n",
    "    # Histogram of time spent in dead end\n",
    "    fig, axs = plt.subplots(2, 2)\n",
    "    axs[0,0].hist(time_spent_list, bins=20, edgecolor='black', alpha=0.7)\n",
    "    axs[0,0].set_xlabel('Time (seconds)')\n",
    "    axs[0,0].set_ylabel('Count')\n",
    "    axs[0,0].set_title('Distribution of time spent in a dead end')\n",
    "\n",
    "    # Histogram of hexes traveled down dead end\n",
    "    axs[1,0].hist(hexes_traveled_list, bins=3, edgecolor='black', alpha=0.7)\n",
    "    axs[1,0].set_xlabel('Hexes traveled')\n",
    "    axs[1,0].set_ylabel('Count')\n",
    "    axs[1,0].set_title('Distribution of hexes traveled down dead end')\n",
    "\n",
    "    # now show these over time\n",
    "    axs[0,1].plot(time_spent_list, marker='o', linestyle='-')\n",
    "    axs[0,1].set_xlabel('Dead end entry')\n",
    "    axs[0,1].set_ylabel('Time (s)')\n",
    "    axs[0,1].set_title('Time spent in dead end')\n",
    "\n",
    "    axs[1,1].plot(hexes_traveled_list, marker='o', linestyle='-')\n",
    "    axs[1,1].set_xlabel('Dead end entry')\n",
    "    axs[1,1].set_ylabel('Hexes')\n",
    "    axs[1,1].set_title('Hexes traveled down dead end')\n",
    "\n",
    "    plt.tight_layout()\n",
    "    plt.show()"
   ]
  },
  {
   "cell_type": "code",
   "execution_count": 7,
   "id": "88608597",
   "metadata": {},
   "outputs": [
    {
     "ename": "NameError",
     "evalue": "name 'dead_end_paths' is not defined",
     "output_type": "error",
     "traceback": [
      "\u001b[0;31m---------------------------------------------------------------------------\u001b[0m",
      "\u001b[0;31mNameError\u001b[0m                                 Traceback (most recent call last)",
      "Cell \u001b[0;32mIn[7], line 6\u001b[0m\n\u001b[1;32m      2\u001b[0m plot_histograms(hexes_traveled_list, time_spent_list)\n\u001b[1;32m      4\u001b[0m \u001b[38;5;66;03m# ok, do the same thing for an individual dead end!\u001b[39;00m\n\u001b[1;32m      5\u001b[0m \u001b[38;5;66;03m# TODO: Fix this part!!!\u001b[39;00m\n\u001b[0;32m----> 6\u001b[0m \u001b[38;5;28;01mfor\u001b[39;00m path \u001b[38;5;129;01min\u001b[39;00m dead_end_paths:\n\u001b[1;32m      7\u001b[0m     slice_df \u001b[38;5;241m=\u001b[39m dead_end_df[dead_end_df[\u001b[38;5;124m'\u001b[39m\u001b[38;5;124mdead_end_path\u001b[39m\u001b[38;5;124m'\u001b[39m]\u001b[38;5;241m.\u001b[39mapply(\u001b[38;5;28;01mlambda\u001b[39;00m x: np\u001b[38;5;241m.\u001b[39marray_equal(x, path))]\n\u001b[1;32m      8\u001b[0m     hexes_traveled_list, time_spent_list \u001b[38;5;241m=\u001b[39m get_stats(slice_df)\n",
      "\u001b[0;31mNameError\u001b[0m: name 'dead_end_paths' is not defined"
     ]
    }
   ],
   "source": [
    "hexes_traveled_list, time_spent_list = get_stats(dead_end_df)\n",
    "plot_histograms(hexes_traveled_list, time_spent_list)\n",
    "\n",
    "# ok, do the same thing for an individual dead end!\n",
    "# TODO: Fix this part!!!\n",
    "for path in dead_end_paths:\n",
    "    slice_df = dead_end_df[dead_end_df['dead_end_path'].apply(lambda x: np.array_equal(x, path))]\n",
    "    hexes_traveled_list, time_spent_list = get_stats(slice_df)\n",
    "    plot_histograms(hexes_traveled_list, time_spent_list)"
   ]
  },
  {
   "cell_type": "code",
   "execution_count": 35,
   "id": "1b378477",
   "metadata": {},
   "outputs": [
    {
     "ename": "ValueError",
     "evalue": "setting an array element with a sequence.",
     "output_type": "error",
     "traceback": [
      "\u001b[0;31m---------------------------------------------------------------------------\u001b[0m",
      "\u001b[0;31mTypeError\u001b[0m                                 Traceback (most recent call last)",
      "\u001b[0;31mTypeError\u001b[0m: float() argument must be a string or a real number, not 'list'",
      "\nThe above exception was the direct cause of the following exception:\n",
      "\u001b[0;31mValueError\u001b[0m                                Traceback (most recent call last)",
      "Cell \u001b[0;32mIn[35], line 2\u001b[0m\n\u001b[1;32m      1\u001b[0m plt\u001b[38;5;241m.\u001b[39mfigure()\n\u001b[0;32m----> 2\u001b[0m plt\u001b[38;5;241m.\u001b[39mplot(dead_end_df\u001b[38;5;241m.\u001b[39mdead_end_path)\n",
      "File \u001b[0;32m~/anaconda3/lib/python3.11/site-packages/matplotlib/pyplot.py:2812\u001b[0m, in \u001b[0;36mplot\u001b[0;34m(scalex, scaley, data, *args, **kwargs)\u001b[0m\n\u001b[1;32m   2810\u001b[0m \u001b[38;5;129m@_copy_docstring_and_deprecators\u001b[39m(Axes\u001b[38;5;241m.\u001b[39mplot)\n\u001b[1;32m   2811\u001b[0m \u001b[38;5;28;01mdef\u001b[39;00m \u001b[38;5;21mplot\u001b[39m(\u001b[38;5;241m*\u001b[39margs, scalex\u001b[38;5;241m=\u001b[39m\u001b[38;5;28;01mTrue\u001b[39;00m, scaley\u001b[38;5;241m=\u001b[39m\u001b[38;5;28;01mTrue\u001b[39;00m, data\u001b[38;5;241m=\u001b[39m\u001b[38;5;28;01mNone\u001b[39;00m, \u001b[38;5;241m*\u001b[39m\u001b[38;5;241m*\u001b[39mkwargs):\n\u001b[0;32m-> 2812\u001b[0m     \u001b[38;5;28;01mreturn\u001b[39;00m gca()\u001b[38;5;241m.\u001b[39mplot(\n\u001b[1;32m   2813\u001b[0m         \u001b[38;5;241m*\u001b[39margs, scalex\u001b[38;5;241m=\u001b[39mscalex, scaley\u001b[38;5;241m=\u001b[39mscaley,\n\u001b[1;32m   2814\u001b[0m         \u001b[38;5;241m*\u001b[39m\u001b[38;5;241m*\u001b[39m({\u001b[38;5;124m\"\u001b[39m\u001b[38;5;124mdata\u001b[39m\u001b[38;5;124m\"\u001b[39m: data} \u001b[38;5;28;01mif\u001b[39;00m data \u001b[38;5;129;01mis\u001b[39;00m \u001b[38;5;129;01mnot\u001b[39;00m \u001b[38;5;28;01mNone\u001b[39;00m \u001b[38;5;28;01melse\u001b[39;00m {}), \u001b[38;5;241m*\u001b[39m\u001b[38;5;241m*\u001b[39mkwargs)\n",
      "File \u001b[0;32m~/anaconda3/lib/python3.11/site-packages/matplotlib/axes/_axes.py:1690\u001b[0m, in \u001b[0;36mAxes.plot\u001b[0;34m(self, scalex, scaley, data, *args, **kwargs)\u001b[0m\n\u001b[1;32m   1688\u001b[0m lines \u001b[38;5;241m=\u001b[39m [\u001b[38;5;241m*\u001b[39m\u001b[38;5;28mself\u001b[39m\u001b[38;5;241m.\u001b[39m_get_lines(\u001b[38;5;241m*\u001b[39margs, data\u001b[38;5;241m=\u001b[39mdata, \u001b[38;5;241m*\u001b[39m\u001b[38;5;241m*\u001b[39mkwargs)]\n\u001b[1;32m   1689\u001b[0m \u001b[38;5;28;01mfor\u001b[39;00m line \u001b[38;5;129;01min\u001b[39;00m lines:\n\u001b[0;32m-> 1690\u001b[0m     \u001b[38;5;28mself\u001b[39m\u001b[38;5;241m.\u001b[39madd_line(line)\n\u001b[1;32m   1691\u001b[0m \u001b[38;5;28;01mif\u001b[39;00m scalex:\n\u001b[1;32m   1692\u001b[0m     \u001b[38;5;28mself\u001b[39m\u001b[38;5;241m.\u001b[39m_request_autoscale_view(\u001b[38;5;124m\"\u001b[39m\u001b[38;5;124mx\u001b[39m\u001b[38;5;124m\"\u001b[39m)\n",
      "File \u001b[0;32m~/anaconda3/lib/python3.11/site-packages/matplotlib/axes/_base.py:2304\u001b[0m, in \u001b[0;36m_AxesBase.add_line\u001b[0;34m(self, line)\u001b[0m\n\u001b[1;32m   2301\u001b[0m \u001b[38;5;28;01mif\u001b[39;00m line\u001b[38;5;241m.\u001b[39mget_clip_path() \u001b[38;5;129;01mis\u001b[39;00m \u001b[38;5;28;01mNone\u001b[39;00m:\n\u001b[1;32m   2302\u001b[0m     line\u001b[38;5;241m.\u001b[39mset_clip_path(\u001b[38;5;28mself\u001b[39m\u001b[38;5;241m.\u001b[39mpatch)\n\u001b[0;32m-> 2304\u001b[0m \u001b[38;5;28mself\u001b[39m\u001b[38;5;241m.\u001b[39m_update_line_limits(line)\n\u001b[1;32m   2305\u001b[0m \u001b[38;5;28;01mif\u001b[39;00m \u001b[38;5;129;01mnot\u001b[39;00m line\u001b[38;5;241m.\u001b[39mget_label():\n\u001b[1;32m   2306\u001b[0m     line\u001b[38;5;241m.\u001b[39mset_label(\u001b[38;5;124mf\u001b[39m\u001b[38;5;124m'\u001b[39m\u001b[38;5;124m_child\u001b[39m\u001b[38;5;132;01m{\u001b[39;00m\u001b[38;5;28mlen\u001b[39m(\u001b[38;5;28mself\u001b[39m\u001b[38;5;241m.\u001b[39m_children)\u001b[38;5;132;01m}\u001b[39;00m\u001b[38;5;124m'\u001b[39m)\n",
      "File \u001b[0;32m~/anaconda3/lib/python3.11/site-packages/matplotlib/axes/_base.py:2327\u001b[0m, in \u001b[0;36m_AxesBase._update_line_limits\u001b[0;34m(self, line)\u001b[0m\n\u001b[1;32m   2323\u001b[0m \u001b[38;5;28;01mdef\u001b[39;00m \u001b[38;5;21m_update_line_limits\u001b[39m(\u001b[38;5;28mself\u001b[39m, line):\n\u001b[1;32m   2324\u001b[0m \u001b[38;5;250m    \u001b[39m\u001b[38;5;124;03m\"\"\"\u001b[39;00m\n\u001b[1;32m   2325\u001b[0m \u001b[38;5;124;03m    Figures out the data limit of the given line, updating self.dataLim.\u001b[39;00m\n\u001b[1;32m   2326\u001b[0m \u001b[38;5;124;03m    \"\"\"\u001b[39;00m\n\u001b[0;32m-> 2327\u001b[0m     path \u001b[38;5;241m=\u001b[39m line\u001b[38;5;241m.\u001b[39mget_path()\n\u001b[1;32m   2328\u001b[0m     \u001b[38;5;28;01mif\u001b[39;00m path\u001b[38;5;241m.\u001b[39mvertices\u001b[38;5;241m.\u001b[39msize \u001b[38;5;241m==\u001b[39m \u001b[38;5;241m0\u001b[39m:\n\u001b[1;32m   2329\u001b[0m         \u001b[38;5;28;01mreturn\u001b[39;00m\n",
      "File \u001b[0;32m~/anaconda3/lib/python3.11/site-packages/matplotlib/lines.py:1028\u001b[0m, in \u001b[0;36mLine2D.get_path\u001b[0;34m(self)\u001b[0m\n\u001b[1;32m   1026\u001b[0m \u001b[38;5;250m\u001b[39m\u001b[38;5;124;03m\"\"\"Return the `~matplotlib.path.Path` associated with this line.\"\"\"\u001b[39;00m\n\u001b[1;32m   1027\u001b[0m \u001b[38;5;28;01mif\u001b[39;00m \u001b[38;5;28mself\u001b[39m\u001b[38;5;241m.\u001b[39m_invalidy \u001b[38;5;129;01mor\u001b[39;00m \u001b[38;5;28mself\u001b[39m\u001b[38;5;241m.\u001b[39m_invalidx:\n\u001b[0;32m-> 1028\u001b[0m     \u001b[38;5;28mself\u001b[39m\u001b[38;5;241m.\u001b[39mrecache()\n\u001b[1;32m   1029\u001b[0m \u001b[38;5;28;01mreturn\u001b[39;00m \u001b[38;5;28mself\u001b[39m\u001b[38;5;241m.\u001b[39m_path\n",
      "File \u001b[0;32m~/anaconda3/lib/python3.11/site-packages/matplotlib/lines.py:664\u001b[0m, in \u001b[0;36mLine2D.recache\u001b[0;34m(self, always)\u001b[0m\n\u001b[1;32m    662\u001b[0m \u001b[38;5;28;01mif\u001b[39;00m always \u001b[38;5;129;01mor\u001b[39;00m \u001b[38;5;28mself\u001b[39m\u001b[38;5;241m.\u001b[39m_invalidy:\n\u001b[1;32m    663\u001b[0m     yconv \u001b[38;5;241m=\u001b[39m \u001b[38;5;28mself\u001b[39m\u001b[38;5;241m.\u001b[39mconvert_yunits(\u001b[38;5;28mself\u001b[39m\u001b[38;5;241m.\u001b[39m_yorig)\n\u001b[0;32m--> 664\u001b[0m     y \u001b[38;5;241m=\u001b[39m _to_unmasked_float_array(yconv)\u001b[38;5;241m.\u001b[39mravel()\n\u001b[1;32m    665\u001b[0m \u001b[38;5;28;01melse\u001b[39;00m:\n\u001b[1;32m    666\u001b[0m     y \u001b[38;5;241m=\u001b[39m \u001b[38;5;28mself\u001b[39m\u001b[38;5;241m.\u001b[39m_y\n",
      "File \u001b[0;32m~/anaconda3/lib/python3.11/site-packages/matplotlib/cbook/__init__.py:1340\u001b[0m, in \u001b[0;36m_to_unmasked_float_array\u001b[0;34m(x)\u001b[0m\n\u001b[1;32m   1338\u001b[0m     \u001b[38;5;28;01mreturn\u001b[39;00m np\u001b[38;5;241m.\u001b[39mma\u001b[38;5;241m.\u001b[39masarray(x, \u001b[38;5;28mfloat\u001b[39m)\u001b[38;5;241m.\u001b[39mfilled(np\u001b[38;5;241m.\u001b[39mnan)\n\u001b[1;32m   1339\u001b[0m \u001b[38;5;28;01melse\u001b[39;00m:\n\u001b[0;32m-> 1340\u001b[0m     \u001b[38;5;28;01mreturn\u001b[39;00m np\u001b[38;5;241m.\u001b[39masarray(x, \u001b[38;5;28mfloat\u001b[39m)\n",
      "\u001b[0;31mValueError\u001b[0m: setting an array element with a sequence."
     ]
    }
   ],
   "source": [
    "plt.figure()\n",
    "plt.plot(dead_end_df.dead_end_path)"
   ]
  },
  {
   "cell_type": "code",
   "execution_count": 37,
   "id": "bea50b5e",
   "metadata": {},
   "outputs": [
    {
     "ename": "FileNotFoundError",
     "evalue": "[Errno 2] No such file or directory: '/Volumes/Tim/Ephys/IM-1594/07312023/phot_decode_df_withHexStates.csv'",
     "output_type": "error",
     "traceback": [
      "\u001b[0;31m---------------------------------------------------------------------------\u001b[0m",
      "\u001b[0;31mFileNotFoundError\u001b[0m                         Traceback (most recent call last)",
      "Cell \u001b[0;32mIn[37], line 3\u001b[0m\n\u001b[1;32m      1\u001b[0m p \u001b[38;5;241m=\u001b[39m \u001b[38;5;124m\"\u001b[39m\u001b[38;5;124mIM-1594/07312023\u001b[39m\u001b[38;5;124m\"\u001b[39m\n\u001b[1;32m      2\u001b[0m b \u001b[38;5;241m=\u001b[39m \u001b[38;5;241m0\u001b[39m\n\u001b[0;32m----> 3\u001b[0m df, transition_mat \u001b[38;5;241m=\u001b[39m load_dataframe_and_tmat(p, b)\n\u001b[1;32m      4\u001b[0m dead_end_df \u001b[38;5;241m=\u001b[39m do_preprocessing(df, transition_mat)\n",
      "Cell \u001b[0;32mIn[26], line 6\u001b[0m, in \u001b[0;36mload_dataframe_and_tmat\u001b[0;34m(base_path, block_num)\u001b[0m\n\u001b[1;32m      4\u001b[0m tmat_suffix \u001b[38;5;241m=\u001b[39m \u001b[38;5;124m\"\u001b[39m\u001b[38;5;124m\"\u001b[39m \u001b[38;5;28;01mif\u001b[39;00m block_num \u001b[38;5;241m==\u001b[39m \u001b[38;5;241m0\u001b[39m \u001b[38;5;28;01melse\u001b[39;00m \u001b[38;5;124m\"\u001b[39m\u001b[38;5;124m_block_\u001b[39m\u001b[38;5;132;01m{}\u001b[39;00m\u001b[38;5;124m.0\u001b[39m\u001b[38;5;124m\"\u001b[39m\u001b[38;5;241m.\u001b[39mformat(block_num)\n\u001b[1;32m      5\u001b[0m transition_mat \u001b[38;5;241m=\u001b[39m np\u001b[38;5;241m.\u001b[39mload(phot_path\u001b[38;5;241m+\u001b[39mbase_path\u001b[38;5;241m+\u001b[39m\u001b[38;5;124m\"\u001b[39m\u001b[38;5;124m/tmat\u001b[39m\u001b[38;5;124m\"\u001b[39m\u001b[38;5;241m+\u001b[39mtmat_suffix\u001b[38;5;241m+\u001b[39m\u001b[38;5;124m\"\u001b[39m\u001b[38;5;124m.npy\u001b[39m\u001b[38;5;124m\"\u001b[39m)\n\u001b[0;32m----> 6\u001b[0m df \u001b[38;5;241m=\u001b[39m reduce_mem_usage(pd\u001b[38;5;241m.\u001b[39mread_csv(ephys_path\u001b[38;5;241m+\u001b[39mbase_path\u001b[38;5;241m+\u001b[39m\u001b[38;5;124m\"\u001b[39m\u001b[38;5;124m/phot_decode_df_withHexStates.csv\u001b[39m\u001b[38;5;124m\"\u001b[39m))\n\u001b[1;32m      7\u001b[0m \u001b[38;5;28;01mif\u001b[39;00m block_num \u001b[38;5;241m!=\u001b[39m\u001b[38;5;241m0\u001b[39m:\n\u001b[1;32m      8\u001b[0m     df \u001b[38;5;241m=\u001b[39m df[df\u001b[38;5;241m.\u001b[39mblock\u001b[38;5;241m==\u001b[39mblock_num]\n",
      "File \u001b[0;32m~/anaconda3/lib/python3.11/site-packages/pandas/io/parsers/readers.py:912\u001b[0m, in \u001b[0;36mread_csv\u001b[0;34m(filepath_or_buffer, sep, delimiter, header, names, index_col, usecols, dtype, engine, converters, true_values, false_values, skipinitialspace, skiprows, skipfooter, nrows, na_values, keep_default_na, na_filter, verbose, skip_blank_lines, parse_dates, infer_datetime_format, keep_date_col, date_parser, date_format, dayfirst, cache_dates, iterator, chunksize, compression, thousands, decimal, lineterminator, quotechar, quoting, doublequote, escapechar, comment, encoding, encoding_errors, dialect, on_bad_lines, delim_whitespace, low_memory, memory_map, float_precision, storage_options, dtype_backend)\u001b[0m\n\u001b[1;32m    899\u001b[0m kwds_defaults \u001b[38;5;241m=\u001b[39m _refine_defaults_read(\n\u001b[1;32m    900\u001b[0m     dialect,\n\u001b[1;32m    901\u001b[0m     delimiter,\n\u001b[0;32m   (...)\u001b[0m\n\u001b[1;32m    908\u001b[0m     dtype_backend\u001b[38;5;241m=\u001b[39mdtype_backend,\n\u001b[1;32m    909\u001b[0m )\n\u001b[1;32m    910\u001b[0m kwds\u001b[38;5;241m.\u001b[39mupdate(kwds_defaults)\n\u001b[0;32m--> 912\u001b[0m \u001b[38;5;28;01mreturn\u001b[39;00m _read(filepath_or_buffer, kwds)\n",
      "File \u001b[0;32m~/anaconda3/lib/python3.11/site-packages/pandas/io/parsers/readers.py:577\u001b[0m, in \u001b[0;36m_read\u001b[0;34m(filepath_or_buffer, kwds)\u001b[0m\n\u001b[1;32m    574\u001b[0m _validate_names(kwds\u001b[38;5;241m.\u001b[39mget(\u001b[38;5;124m\"\u001b[39m\u001b[38;5;124mnames\u001b[39m\u001b[38;5;124m\"\u001b[39m, \u001b[38;5;28;01mNone\u001b[39;00m))\n\u001b[1;32m    576\u001b[0m \u001b[38;5;66;03m# Create the parser.\u001b[39;00m\n\u001b[0;32m--> 577\u001b[0m parser \u001b[38;5;241m=\u001b[39m TextFileReader(filepath_or_buffer, \u001b[38;5;241m*\u001b[39m\u001b[38;5;241m*\u001b[39mkwds)\n\u001b[1;32m    579\u001b[0m \u001b[38;5;28;01mif\u001b[39;00m chunksize \u001b[38;5;129;01mor\u001b[39;00m iterator:\n\u001b[1;32m    580\u001b[0m     \u001b[38;5;28;01mreturn\u001b[39;00m parser\n",
      "File \u001b[0;32m~/anaconda3/lib/python3.11/site-packages/pandas/io/parsers/readers.py:1407\u001b[0m, in \u001b[0;36mTextFileReader.__init__\u001b[0;34m(self, f, engine, **kwds)\u001b[0m\n\u001b[1;32m   1404\u001b[0m     \u001b[38;5;28mself\u001b[39m\u001b[38;5;241m.\u001b[39moptions[\u001b[38;5;124m\"\u001b[39m\u001b[38;5;124mhas_index_names\u001b[39m\u001b[38;5;124m\"\u001b[39m] \u001b[38;5;241m=\u001b[39m kwds[\u001b[38;5;124m\"\u001b[39m\u001b[38;5;124mhas_index_names\u001b[39m\u001b[38;5;124m\"\u001b[39m]\n\u001b[1;32m   1406\u001b[0m \u001b[38;5;28mself\u001b[39m\u001b[38;5;241m.\u001b[39mhandles: IOHandles \u001b[38;5;241m|\u001b[39m \u001b[38;5;28;01mNone\u001b[39;00m \u001b[38;5;241m=\u001b[39m \u001b[38;5;28;01mNone\u001b[39;00m\n\u001b[0;32m-> 1407\u001b[0m \u001b[38;5;28mself\u001b[39m\u001b[38;5;241m.\u001b[39m_engine \u001b[38;5;241m=\u001b[39m \u001b[38;5;28mself\u001b[39m\u001b[38;5;241m.\u001b[39m_make_engine(f, \u001b[38;5;28mself\u001b[39m\u001b[38;5;241m.\u001b[39mengine)\n",
      "File \u001b[0;32m~/anaconda3/lib/python3.11/site-packages/pandas/io/parsers/readers.py:1661\u001b[0m, in \u001b[0;36mTextFileReader._make_engine\u001b[0;34m(self, f, engine)\u001b[0m\n\u001b[1;32m   1659\u001b[0m     \u001b[38;5;28;01mif\u001b[39;00m \u001b[38;5;124m\"\u001b[39m\u001b[38;5;124mb\u001b[39m\u001b[38;5;124m\"\u001b[39m \u001b[38;5;129;01mnot\u001b[39;00m \u001b[38;5;129;01min\u001b[39;00m mode:\n\u001b[1;32m   1660\u001b[0m         mode \u001b[38;5;241m+\u001b[39m\u001b[38;5;241m=\u001b[39m \u001b[38;5;124m\"\u001b[39m\u001b[38;5;124mb\u001b[39m\u001b[38;5;124m\"\u001b[39m\n\u001b[0;32m-> 1661\u001b[0m \u001b[38;5;28mself\u001b[39m\u001b[38;5;241m.\u001b[39mhandles \u001b[38;5;241m=\u001b[39m get_handle(\n\u001b[1;32m   1662\u001b[0m     f,\n\u001b[1;32m   1663\u001b[0m     mode,\n\u001b[1;32m   1664\u001b[0m     encoding\u001b[38;5;241m=\u001b[39m\u001b[38;5;28mself\u001b[39m\u001b[38;5;241m.\u001b[39moptions\u001b[38;5;241m.\u001b[39mget(\u001b[38;5;124m\"\u001b[39m\u001b[38;5;124mencoding\u001b[39m\u001b[38;5;124m\"\u001b[39m, \u001b[38;5;28;01mNone\u001b[39;00m),\n\u001b[1;32m   1665\u001b[0m     compression\u001b[38;5;241m=\u001b[39m\u001b[38;5;28mself\u001b[39m\u001b[38;5;241m.\u001b[39moptions\u001b[38;5;241m.\u001b[39mget(\u001b[38;5;124m\"\u001b[39m\u001b[38;5;124mcompression\u001b[39m\u001b[38;5;124m\"\u001b[39m, \u001b[38;5;28;01mNone\u001b[39;00m),\n\u001b[1;32m   1666\u001b[0m     memory_map\u001b[38;5;241m=\u001b[39m\u001b[38;5;28mself\u001b[39m\u001b[38;5;241m.\u001b[39moptions\u001b[38;5;241m.\u001b[39mget(\u001b[38;5;124m\"\u001b[39m\u001b[38;5;124mmemory_map\u001b[39m\u001b[38;5;124m\"\u001b[39m, \u001b[38;5;28;01mFalse\u001b[39;00m),\n\u001b[1;32m   1667\u001b[0m     is_text\u001b[38;5;241m=\u001b[39mis_text,\n\u001b[1;32m   1668\u001b[0m     errors\u001b[38;5;241m=\u001b[39m\u001b[38;5;28mself\u001b[39m\u001b[38;5;241m.\u001b[39moptions\u001b[38;5;241m.\u001b[39mget(\u001b[38;5;124m\"\u001b[39m\u001b[38;5;124mencoding_errors\u001b[39m\u001b[38;5;124m\"\u001b[39m, \u001b[38;5;124m\"\u001b[39m\u001b[38;5;124mstrict\u001b[39m\u001b[38;5;124m\"\u001b[39m),\n\u001b[1;32m   1669\u001b[0m     storage_options\u001b[38;5;241m=\u001b[39m\u001b[38;5;28mself\u001b[39m\u001b[38;5;241m.\u001b[39moptions\u001b[38;5;241m.\u001b[39mget(\u001b[38;5;124m\"\u001b[39m\u001b[38;5;124mstorage_options\u001b[39m\u001b[38;5;124m\"\u001b[39m, \u001b[38;5;28;01mNone\u001b[39;00m),\n\u001b[1;32m   1670\u001b[0m )\n\u001b[1;32m   1671\u001b[0m \u001b[38;5;28;01massert\u001b[39;00m \u001b[38;5;28mself\u001b[39m\u001b[38;5;241m.\u001b[39mhandles \u001b[38;5;129;01mis\u001b[39;00m \u001b[38;5;129;01mnot\u001b[39;00m \u001b[38;5;28;01mNone\u001b[39;00m\n\u001b[1;32m   1672\u001b[0m f \u001b[38;5;241m=\u001b[39m \u001b[38;5;28mself\u001b[39m\u001b[38;5;241m.\u001b[39mhandles\u001b[38;5;241m.\u001b[39mhandle\n",
      "File \u001b[0;32m~/anaconda3/lib/python3.11/site-packages/pandas/io/common.py:859\u001b[0m, in \u001b[0;36mget_handle\u001b[0;34m(path_or_buf, mode, encoding, compression, memory_map, is_text, errors, storage_options)\u001b[0m\n\u001b[1;32m    854\u001b[0m \u001b[38;5;28;01melif\u001b[39;00m \u001b[38;5;28misinstance\u001b[39m(handle, \u001b[38;5;28mstr\u001b[39m):\n\u001b[1;32m    855\u001b[0m     \u001b[38;5;66;03m# Check whether the filename is to be opened in binary mode.\u001b[39;00m\n\u001b[1;32m    856\u001b[0m     \u001b[38;5;66;03m# Binary mode does not support 'encoding' and 'newline'.\u001b[39;00m\n\u001b[1;32m    857\u001b[0m     \u001b[38;5;28;01mif\u001b[39;00m ioargs\u001b[38;5;241m.\u001b[39mencoding \u001b[38;5;129;01mand\u001b[39;00m \u001b[38;5;124m\"\u001b[39m\u001b[38;5;124mb\u001b[39m\u001b[38;5;124m\"\u001b[39m \u001b[38;5;129;01mnot\u001b[39;00m \u001b[38;5;129;01min\u001b[39;00m ioargs\u001b[38;5;241m.\u001b[39mmode:\n\u001b[1;32m    858\u001b[0m         \u001b[38;5;66;03m# Encoding\u001b[39;00m\n\u001b[0;32m--> 859\u001b[0m         handle \u001b[38;5;241m=\u001b[39m \u001b[38;5;28mopen\u001b[39m(\n\u001b[1;32m    860\u001b[0m             handle,\n\u001b[1;32m    861\u001b[0m             ioargs\u001b[38;5;241m.\u001b[39mmode,\n\u001b[1;32m    862\u001b[0m             encoding\u001b[38;5;241m=\u001b[39mioargs\u001b[38;5;241m.\u001b[39mencoding,\n\u001b[1;32m    863\u001b[0m             errors\u001b[38;5;241m=\u001b[39merrors,\n\u001b[1;32m    864\u001b[0m             newline\u001b[38;5;241m=\u001b[39m\u001b[38;5;124m\"\u001b[39m\u001b[38;5;124m\"\u001b[39m,\n\u001b[1;32m    865\u001b[0m         )\n\u001b[1;32m    866\u001b[0m     \u001b[38;5;28;01melse\u001b[39;00m:\n\u001b[1;32m    867\u001b[0m         \u001b[38;5;66;03m# Binary mode\u001b[39;00m\n\u001b[1;32m    868\u001b[0m         handle \u001b[38;5;241m=\u001b[39m \u001b[38;5;28mopen\u001b[39m(handle, ioargs\u001b[38;5;241m.\u001b[39mmode)\n",
      "\u001b[0;31mFileNotFoundError\u001b[0m: [Errno 2] No such file or directory: '/Volumes/Tim/Ephys/IM-1594/07312023/phot_decode_df_withHexStates.csv'"
     ]
    }
   ],
   "source": [
    "p = \"IM-1594/0722023\"\n",
    "b = 3\n",
    "df, transition_mat = load_dataframe_and_tmat(p, b)\n",
    "dead_end_df = do_preprocessing(df, transition_mat)"
   ]
  }
 ],
 "metadata": {
  "kernelspec": {
   "display_name": "Python 3 (ipykernel)",
   "language": "python",
   "name": "python3"
  },
  "language_info": {
   "codemirror_mode": {
    "name": "ipython",
    "version": 3
   },
   "file_extension": ".py",
   "mimetype": "text/x-python",
   "name": "python",
   "nbconvert_exporter": "python",
   "pygments_lexer": "ipython3",
   "version": "3.11.5"
  }
 },
 "nbformat": 4,
 "nbformat_minor": 5
}
